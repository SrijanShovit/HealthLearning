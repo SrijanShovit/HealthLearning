{
 "cells": [
  {
   "cell_type": "code",
   "execution_count": 162,
   "metadata": {
    "_cell_guid": "b1076dfc-b9ad-4769-8c92-a6c4dae69d19",
    "_uuid": "8f2839f25d086af736a60e9eeb907d3b93b6e0e5",
    "execution": {
     "iopub.execute_input": "2024-05-12T04:33:30.142455Z",
     "iopub.status.busy": "2024-05-12T04:33:30.141959Z",
     "iopub.status.idle": "2024-05-12T04:33:30.624785Z",
     "shell.execute_reply": "2024-05-12T04:33:30.623303Z",
     "shell.execute_reply.started": "2024-05-12T04:33:30.142383Z"
    }
   },
   "outputs": [],
   "source": [
    "import pandas as pd\n",
    "import warnings"
   ]
  },
  {
   "cell_type": "code",
   "execution_count": 163,
   "metadata": {},
   "outputs": [],
   "source": [
    "with warnings.catch_warnings():\n",
    "    warnings.filterwarnings('ignore', category=FutureWarning)"
   ]
  },
  {
   "cell_type": "markdown",
   "metadata": {},
   "source": [
    "## Load the dataset"
   ]
  },
  {
   "cell_type": "code",
   "execution_count": 164,
   "metadata": {
    "execution": {
     "iopub.execute_input": "2024-05-12T04:33:30.627159Z",
     "iopub.status.busy": "2024-05-12T04:33:30.626639Z",
     "iopub.status.idle": "2024-05-12T04:33:30.704230Z",
     "shell.execute_reply": "2024-05-12T04:33:30.702698Z",
     "shell.execute_reply.started": "2024-05-12T04:33:30.627126Z"
    }
   },
   "outputs": [],
   "source": [
    "df = pd.read_csv('Synthetic-Infant-Health-Data.csv')"
   ]
  },
  {
   "cell_type": "markdown",
   "metadata": {},
   "source": [
    "## Explore and Confirm Features and Labels"
   ]
  },
  {
   "cell_type": "code",
   "execution_count": 165,
   "metadata": {
    "execution": {
     "iopub.execute_input": "2024-05-12T04:33:30.706705Z",
     "iopub.status.busy": "2024-05-12T04:33:30.706295Z",
     "iopub.status.idle": "2024-05-12T04:33:30.724544Z",
     "shell.execute_reply": "2024-05-12T04:33:30.723038Z",
     "shell.execute_reply.started": "2024-05-12T04:33:30.706671Z"
    }
   },
   "outputs": [
    {
     "name": "stdout",
     "output_type": "stream",
     "text": [
      "   Unnamed: 0 BirthAsphyxia HypDistrib HypoxiaInO2     CO2  ChestXray  \\\n",
      "0           0            no      Equal      Severe  Normal     Normal   \n",
      "1           1            no      Equal    Moderate    High  Grd_Glass   \n",
      "2           2            no      Equal      Severe  Normal  Plethoric   \n",
      "3           3            no      Equal    Moderate  Normal  Plethoric   \n",
      "4           4            no      Equal    Moderate  Normal  Plethoric   \n",
      "\n",
      "  Grunting LVHreport LowerBodyO2 RUQO2  ...  XrayReport Disease  \\\n",
      "0      yes        no        5-12    <5  ...  Asy/Patchy     TGA   \n",
      "1       no        no          <5  5-12  ...   Grd_Glass  Fallot   \n",
      "2       no       yes        5-12  5-12  ...      Normal     PFC   \n",
      "3       no        no        5-12    <5  ...   Plethoric   PAIVS   \n",
      "4       no       yes         12+  5-12  ...   Plethoric   PAIVS   \n",
      "\n",
      "  GruntingReport        Age  LVH  DuctFlow CardiacMixing LungParench LungFlow  \\\n",
      "0             no  4-10_days   no  Lt_to_Rt       Transp.      Normal   Normal   \n",
      "1             no   0-3_days   no  Rt_to_Lt          Mild    Abnormal     High   \n",
      "2             no   0-3_days   no  Lt_to_Rt      Complete      Normal     High   \n",
      "3             no   0-3_days   no       NaN      Complete      Normal      Low   \n",
      "4             no   0-3_days  yes  Lt_to_Rt      Complete      Normal   Normal   \n",
      "\n",
      "  Sick  \n",
      "0   no  \n",
      "1   no  \n",
      "2   no  \n",
      "3   no  \n",
      "4  yes  \n",
      "\n",
      "[5 rows x 21 columns]\n",
      "\n",
      "21 Features: Index(['Unnamed: 0', 'BirthAsphyxia', 'HypDistrib', 'HypoxiaInO2', 'CO2',\n",
      "       'ChestXray', 'Grunting', 'LVHreport', 'LowerBodyO2', 'RUQO2',\n",
      "       'CO2Report', 'XrayReport', 'Disease', 'GruntingReport', 'Age', 'LVH',\n",
      "       'DuctFlow', 'CardiacMixing', 'LungParench', 'LungFlow', 'Sick'],\n",
      "      dtype='object')\n"
     ]
    }
   ],
   "source": [
    "print(df.head())\n",
    "print()\n",
    "print(len(df.columns),'Features:', df.columns)"
   ]
  },
  {
   "cell_type": "markdown",
   "metadata": {},
   "source": [
    "## Explore Size/ Shape of Dataset"
   ]
  },
  {
   "cell_type": "code",
   "execution_count": 166,
   "metadata": {
    "execution": {
     "iopub.execute_input": "2024-05-12T04:41:55.832348Z",
     "iopub.status.busy": "2024-05-12T04:41:55.831852Z",
     "iopub.status.idle": "2024-05-12T04:41:55.862177Z",
     "shell.execute_reply": "2024-05-12T04:41:55.860437Z",
     "shell.execute_reply.started": "2024-05-12T04:41:55.832309Z"
    }
   },
   "outputs": [
    {
     "name": "stdout",
     "output_type": "stream",
     "text": [
      "Shape: (15000, 21)\n",
      "15000 Samples and  21 Features\n",
      "\n",
      "<class 'pandas.core.frame.DataFrame'>\n",
      "RangeIndex: 15000 entries, 0 to 14999\n",
      "Data columns (total 21 columns):\n",
      " #   Column          Non-Null Count  Dtype \n",
      "---  ------          --------------  ----- \n",
      " 0   Unnamed: 0      15000 non-null  int64 \n",
      " 1   BirthAsphyxia   15000 non-null  object\n",
      " 2   HypDistrib      15000 non-null  object\n",
      " 3   HypoxiaInO2     15000 non-null  object\n",
      " 4   CO2             15000 non-null  object\n",
      " 5   ChestXray       15000 non-null  object\n",
      " 6   Grunting        15000 non-null  object\n",
      " 7   LVHreport       15000 non-null  object\n",
      " 8   LowerBodyO2     15000 non-null  object\n",
      " 9   RUQO2           15000 non-null  object\n",
      " 10  CO2Report       15000 non-null  object\n",
      " 11  XrayReport      15000 non-null  object\n",
      " 12  Disease         15000 non-null  object\n",
      " 13  GruntingReport  15000 non-null  object\n",
      " 14  Age             15000 non-null  object\n",
      " 15  LVH             15000 non-null  object\n",
      " 16  DuctFlow        9311 non-null   object\n",
      " 17  CardiacMixing   14273 non-null  object\n",
      " 18  LungParench     15000 non-null  object\n",
      " 19  LungFlow        15000 non-null  object\n",
      " 20  Sick            15000 non-null  object\n",
      "dtypes: int64(1), object(20)\n",
      "memory usage: 2.4+ MB\n",
      "None\n"
     ]
    }
   ],
   "source": [
    "print('Shape:', df.shape)\n",
    "print(df.shape[0], 'Samples and ', df.shape[1], 'Features')\n",
    "print()\n",
    "print(df.info())"
   ]
  },
  {
   "cell_type": "markdown",
   "metadata": {},
   "source": [
    "## Getting Familiar with the Features"
   ]
  },
  {
   "cell_type": "code",
   "execution_count": 167,
   "metadata": {
    "execution": {
     "iopub.execute_input": "2024-05-12T04:33:30.761895Z",
     "iopub.status.busy": "2024-05-12T04:33:30.761508Z",
     "iopub.status.idle": "2024-05-12T04:33:30.829862Z",
     "shell.execute_reply": "2024-05-12T04:33:30.828338Z",
     "shell.execute_reply.started": "2024-05-12T04:33:30.761862Z"
    }
   },
   "outputs": [
    {
     "name": "stdout",
     "output_type": "stream",
     "text": [
      "Feature 'Unnamed: 0': 15000 unique value(s)\n",
      "Feature 'BirthAsphyxia': 2 unique value(s)\n",
      "Unique Values: ['no', 'yes']\n",
      "\n",
      "Feature 'HypDistrib': 2 unique value(s)\n",
      "Unique Values: ['Equal', 'Unequal']\n",
      "\n",
      "Feature 'HypoxiaInO2': 3 unique value(s)\n",
      "Unique Values: ['Severe', 'Moderate', 'Mild']\n",
      "\n",
      "Feature 'CO2': 3 unique value(s)\n",
      "Unique Values: ['Normal', 'High', 'Low']\n",
      "\n",
      "Feature 'ChestXray': 5 unique value(s)\n",
      "Unique Values: ['Normal', 'Grd_Glass', 'Plethoric', 'Oligaemic', 'Asy/Patch']\n",
      "\n",
      "Feature 'Grunting': 2 unique value(s)\n",
      "Unique Values: ['yes', 'no']\n",
      "\n",
      "Feature 'LVHreport': 2 unique value(s)\n",
      "Unique Values: ['no', 'yes']\n",
      "\n",
      "Feature 'LowerBodyO2': 3 unique value(s)\n",
      "Unique Values: ['5-12', '<5', '12+']\n",
      "\n",
      "Feature 'RUQO2': 3 unique value(s)\n",
      "Unique Values: ['<5', '5-12', '12+']\n",
      "\n",
      "Feature 'CO2Report': 2 unique value(s)\n",
      "Unique Values: ['<7.5', '>=7.5']\n",
      "\n",
      "Feature 'XrayReport': 5 unique value(s)\n",
      "Unique Values: ['Asy/Patchy', 'Grd_Glass', 'Normal', 'Plethoric', 'Oligaemic']\n",
      "\n",
      "Feature 'Disease': 6 unique value(s)\n",
      "Unique Values: ['TGA', 'Fallot', 'PFC', 'PAIVS', 'TAPVD', 'Lung']\n",
      "\n",
      "Feature 'GruntingReport': 2 unique value(s)\n",
      "Unique Values: ['no', 'yes']\n",
      "\n",
      "Feature 'Age': 3 unique value(s)\n",
      "Unique Values: ['4-10_days', '0-3_days', '11-30_days']\n",
      "\n",
      "Feature 'LVH': 2 unique value(s)\n",
      "Unique Values: ['no', 'yes']\n",
      "\n",
      "Feature 'DuctFlow': 2 unique value(s)\n",
      "Unique Values: ['Lt_to_Rt', 'Rt_to_Lt', 'nan']\n",
      "\n",
      "Feature 'CardiacMixing': 3 unique value(s)\n",
      "Unique Values: ['Transp.', 'Mild', 'Complete', 'nan']\n",
      "\n",
      "Feature 'LungParench': 3 unique value(s)\n",
      "Unique Values: ['Normal', 'Abnormal', 'Congested']\n",
      "\n",
      "Feature 'LungFlow': 3 unique value(s)\n",
      "Unique Values: ['Normal', 'High', 'Low']\n",
      "\n",
      "Feature 'Sick': 2 unique value(s)\n",
      "Unique Values: ['no', 'yes']\n",
      "\n"
     ]
    }
   ],
   "source": [
    "for col in df.columns:\n",
    "    \n",
    "    no_unique = df[col].nunique()\n",
    "    print(f\"Feature '{col}': {no_unique} unique value(s)\")\n",
    "    \n",
    "    if no_unique <= 20:\n",
    "        unique_values = df[col].unique()\n",
    "        formatted_values = \"[\" + \", \".join([f\"'{val}'\" for val in unique_values]) + \"]\"\n",
    "        \n",
    "        print('Unique Values:', formatted_values)\n",
    "        print()"
   ]
  },
  {
   "cell_type": "markdown",
   "metadata": {},
   "source": [
    "## Investigate Data Types of Features and Labels"
   ]
  },
  {
   "cell_type": "code",
   "execution_count": 168,
   "metadata": {
    "execution": {
     "iopub.execute_input": "2024-05-12T04:33:30.836172Z",
     "iopub.status.busy": "2024-05-12T04:33:30.835350Z",
     "iopub.status.idle": "2024-05-12T04:33:30.843976Z",
     "shell.execute_reply": "2024-05-12T04:33:30.842820Z",
     "shell.execute_reply.started": "2024-05-12T04:33:30.836133Z"
    }
   },
   "outputs": [
    {
     "name": "stdout",
     "output_type": "stream",
     "text": [
      "Unnamed: 0         int64\n",
      "BirthAsphyxia     object\n",
      "HypDistrib        object\n",
      "HypoxiaInO2       object\n",
      "CO2               object\n",
      "ChestXray         object\n",
      "Grunting          object\n",
      "LVHreport         object\n",
      "LowerBodyO2       object\n",
      "RUQO2             object\n",
      "CO2Report         object\n",
      "XrayReport        object\n",
      "Disease           object\n",
      "GruntingReport    object\n",
      "Age               object\n",
      "LVH               object\n",
      "DuctFlow          object\n",
      "CardiacMixing     object\n",
      "LungParench       object\n",
      "LungFlow          object\n",
      "Sick              object\n",
      "dtype: object\n"
     ]
    }
   ],
   "source": [
    "print(df.dtypes)"
   ]
  },
  {
   "cell_type": "markdown",
   "metadata": {},
   "source": [
    "## Check for Nan values"
   ]
  },
  {
   "cell_type": "code",
   "execution_count": 169,
   "metadata": {},
   "outputs": [
    {
     "name": "stdout",
     "output_type": "stream",
     "text": [
      "['DuctFlow', 'CardiacMixing']\n"
     ]
    }
   ],
   "source": [
    "# Check if any NaN values exist in each column\n",
    "any_nan_in_columns = df.isna().any()\n",
    "columns_with_nan = df.columns[any_nan_in_columns].to_list()\n",
    "print(columns_with_nan)"
   ]
  },
  {
   "cell_type": "code",
   "execution_count": 170,
   "metadata": {},
   "outputs": [
    {
     "name": "stdout",
     "output_type": "stream",
     "text": [
      "DuctFlow         5689\n",
      "CardiacMixing     727\n",
      "dtype: int64\n"
     ]
    }
   ],
   "source": [
    "nan_counts = df[columns_with_nan].isna().sum()\n",
    "print(nan_counts)"
   ]
  },
  {
   "cell_type": "code",
   "execution_count": 171,
   "metadata": {},
   "outputs": [
    {
     "name": "stdout",
     "output_type": "stream",
     "text": [
      "Value Counts:\n",
      " DuctFlow\n",
      "Lt_to_Rt    8209\n",
      "Rt_to_Lt    1102\n",
      "Name: count, dtype: int64\n"
     ]
    }
   ],
   "source": [
    "value_counts = df['DuctFlow'].value_counts()\n",
    "print(\"Value Counts:\\n\", value_counts)"
   ]
  },
  {
   "cell_type": "code",
   "execution_count": 172,
   "metadata": {},
   "outputs": [
    {
     "name": "stdout",
     "output_type": "stream",
     "text": [
      "Value Counts:\n",
      " CardiacMixing\n",
      "Complete    8442\n",
      "Transp.     4839\n",
      "Mild         992\n",
      "Name: count, dtype: int64\n"
     ]
    }
   ],
   "source": [
    "value_counts = df['CardiacMixing'].value_counts()\n",
    "print(\"Value Counts:\\n\", value_counts)"
   ]
  },
  {
   "cell_type": "markdown",
   "metadata": {},
   "source": [
    "## Handle the Nan values"
   ]
  },
  {
   "cell_type": "code",
   "execution_count": 173,
   "metadata": {},
   "outputs": [],
   "source": [
    "# Fill the Nan Values with the Most Frequent Value = Lt_to_Rt\n",
    "df['DuctFlow'] = df['DuctFlow'].fillna('Lt_to_Rt')"
   ]
  },
  {
   "cell_type": "code",
   "execution_count": 174,
   "metadata": {},
   "outputs": [],
   "source": [
    "# Fill the Nan Values with the Most Frequent Value = Complete\n",
    "df['CardiacMixing'] = df['CardiacMixing'].fillna('Complete')"
   ]
  },
  {
   "cell_type": "code",
   "execution_count": 175,
   "metadata": {},
   "outputs": [
    {
     "name": "stdout",
     "output_type": "stream",
     "text": [
      "DuctFlow         0\n",
      "CardiacMixing    0\n",
      "dtype: int64\n"
     ]
    }
   ],
   "source": [
    "# Check for Nan Values Now\n",
    "nan_counts = df[columns_with_nan].isna().sum()\n",
    "print(nan_counts)"
   ]
  },
  {
   "cell_type": "markdown",
   "metadata": {},
   "source": [
    "## Data Types Necessary Conversions"
   ]
  },
  {
   "cell_type": "code",
   "execution_count": 176,
   "metadata": {
    "execution": {
     "iopub.execute_input": "2024-05-12T04:33:30.845800Z",
     "iopub.status.busy": "2024-05-12T04:33:30.845371Z",
     "iopub.status.idle": "2024-05-12T04:33:30.943128Z",
     "shell.execute_reply": "2024-05-12T04:33:30.941645Z",
     "shell.execute_reply.started": "2024-05-12T04:33:30.845764Z"
    }
   },
   "outputs": [],
   "source": [
    "categorical_mappings = {\n",
    "    'BirthAsphyxia': {'no': 0, 'yes': 1},\n",
    "    \n",
    "    'HypDistrib': {'Equal': 0, 'Unequal': 1},\n",
    "    \n",
    "    'HypoxiaInO2': {'Mild': 0, 'Moderate': 1, 'Severe': 2},\n",
    "    \n",
    "    'CO2': {'Normal': 0, 'High': 1, 'Low': 2},\n",
    "    \n",
    "    'ChestXray': {'Normal': 0, 'Grd_Glass': 1, 'Plethoric': 2, 'Oligaemic': 3, 'Asy/Patch': 4},\n",
    "    \n",
    "    'Grunting': {'yes': 1, 'no': 0},\n",
    "    \n",
    "    'LVHreport': {'yes': 1, 'no': 0},\n",
    "    \n",
    "    'LowerBodyO2': {'<5': 0, '5-12': 1, '12+': 2},\n",
    "    \n",
    "    'RUQO2': {'<5': 0, '5-12': 1, '12+': 2},\n",
    "    \n",
    "    'CO2Report': {'<7.5': 0, '>=7.5': 1},\n",
    "    \n",
    "    'XrayReport': {'Asy/Patchy': 0, 'Grd_Glass': 1, 'Normal': 2, 'Plethoric': 3, 'Oligaemic': 4},\n",
    "    \n",
    "    'Disease': {'TGA': 0, 'Fallot': 1, 'PFC': 2, 'PAIVS': 3, 'TAPVD': 4, 'Lung': 5},\n",
    "    \n",
    "    'GruntingReport': {'yes': 1, 'no': 0},\n",
    "    \n",
    "    'Age': {'0-3_days': 0, '4-10_days': 1, '11-30_days': 2},\n",
    "    \n",
    "    'LVH': {'yes': 1, 'no': 0},\n",
    "    \n",
    "    'DuctFlow': {'Lt_to_Rt': 0, 'Rt_to_Lt': 1},\n",
    "    \n",
    "    'CardiacMixing': {'Transp.': 0, 'Mild': 1, 'Complete': 2},\n",
    "    \n",
    "    'LungParench': {'Normal': 0, 'Abnormal': 1, 'Congested': 2},\n",
    "    \n",
    "    'LungFlow': {'Normal': 0, 'High': 1, 'Low': 2},\n",
    "    \n",
    "    'Sick': {'yes': 1, 'no': 0}\n",
    "}\n",
    "\n",
    "for col, mapping in categorical_mappings.items():\n",
    "    df[col] = df[col].map(mapping)"
   ]
  },
  {
   "cell_type": "markdown",
   "metadata": {},
   "source": [
    "### After Conversion"
   ]
  },
  {
   "cell_type": "code",
   "execution_count": 177,
   "metadata": {
    "execution": {
     "iopub.execute_input": "2024-05-12T04:34:30.767765Z",
     "iopub.status.busy": "2024-05-12T04:34:30.767114Z",
     "iopub.status.idle": "2024-05-12T04:34:30.777277Z",
     "shell.execute_reply": "2024-05-12T04:34:30.776298Z",
     "shell.execute_reply.started": "2024-05-12T04:34:30.767716Z"
    }
   },
   "outputs": [
    {
     "name": "stdout",
     "output_type": "stream",
     "text": [
      "Unnamed: 0        int64\n",
      "BirthAsphyxia     int64\n",
      "HypDistrib        int64\n",
      "HypoxiaInO2       int64\n",
      "CO2               int64\n",
      "ChestXray         int64\n",
      "Grunting          int64\n",
      "LVHreport         int64\n",
      "LowerBodyO2       int64\n",
      "RUQO2             int64\n",
      "CO2Report         int64\n",
      "XrayReport        int64\n",
      "Disease           int64\n",
      "GruntingReport    int64\n",
      "Age               int64\n",
      "LVH               int64\n",
      "DuctFlow          int64\n",
      "CardiacMixing     int64\n",
      "LungParench       int64\n",
      "LungFlow          int64\n",
      "Sick              int64\n",
      "dtype: object\n"
     ]
    }
   ],
   "source": [
    "print(df.dtypes)"
   ]
  },
  {
   "cell_type": "code",
   "execution_count": 178,
   "metadata": {
    "execution": {
     "iopub.execute_input": "2024-05-12T04:34:37.967504Z",
     "iopub.status.busy": "2024-05-12T04:34:37.965808Z",
     "iopub.status.idle": "2024-05-12T04:34:37.997546Z",
     "shell.execute_reply": "2024-05-12T04:34:37.995946Z",
     "shell.execute_reply.started": "2024-05-12T04:34:37.967443Z"
    }
   },
   "outputs": [
    {
     "data": {
      "text/html": [
       "<div>\n",
       "<style scoped>\n",
       "    .dataframe tbody tr th:only-of-type {\n",
       "        vertical-align: middle;\n",
       "    }\n",
       "\n",
       "    .dataframe tbody tr th {\n",
       "        vertical-align: top;\n",
       "    }\n",
       "\n",
       "    .dataframe thead th {\n",
       "        text-align: right;\n",
       "    }\n",
       "</style>\n",
       "<table border=\"1\" class=\"dataframe\">\n",
       "  <thead>\n",
       "    <tr style=\"text-align: right;\">\n",
       "      <th></th>\n",
       "      <th>Unnamed: 0</th>\n",
       "      <th>BirthAsphyxia</th>\n",
       "      <th>HypDistrib</th>\n",
       "      <th>HypoxiaInO2</th>\n",
       "      <th>CO2</th>\n",
       "      <th>ChestXray</th>\n",
       "      <th>Grunting</th>\n",
       "      <th>LVHreport</th>\n",
       "      <th>LowerBodyO2</th>\n",
       "      <th>RUQO2</th>\n",
       "      <th>...</th>\n",
       "      <th>XrayReport</th>\n",
       "      <th>Disease</th>\n",
       "      <th>GruntingReport</th>\n",
       "      <th>Age</th>\n",
       "      <th>LVH</th>\n",
       "      <th>DuctFlow</th>\n",
       "      <th>CardiacMixing</th>\n",
       "      <th>LungParench</th>\n",
       "      <th>LungFlow</th>\n",
       "      <th>Sick</th>\n",
       "    </tr>\n",
       "  </thead>\n",
       "  <tbody>\n",
       "    <tr>\n",
       "      <th>0</th>\n",
       "      <td>0</td>\n",
       "      <td>0</td>\n",
       "      <td>0</td>\n",
       "      <td>2</td>\n",
       "      <td>0</td>\n",
       "      <td>0</td>\n",
       "      <td>1</td>\n",
       "      <td>0</td>\n",
       "      <td>1</td>\n",
       "      <td>0</td>\n",
       "      <td>...</td>\n",
       "      <td>0</td>\n",
       "      <td>0</td>\n",
       "      <td>0</td>\n",
       "      <td>1</td>\n",
       "      <td>0</td>\n",
       "      <td>0</td>\n",
       "      <td>0</td>\n",
       "      <td>0</td>\n",
       "      <td>0</td>\n",
       "      <td>0</td>\n",
       "    </tr>\n",
       "    <tr>\n",
       "      <th>1</th>\n",
       "      <td>1</td>\n",
       "      <td>0</td>\n",
       "      <td>0</td>\n",
       "      <td>1</td>\n",
       "      <td>1</td>\n",
       "      <td>1</td>\n",
       "      <td>0</td>\n",
       "      <td>0</td>\n",
       "      <td>0</td>\n",
       "      <td>1</td>\n",
       "      <td>...</td>\n",
       "      <td>1</td>\n",
       "      <td>1</td>\n",
       "      <td>0</td>\n",
       "      <td>0</td>\n",
       "      <td>0</td>\n",
       "      <td>1</td>\n",
       "      <td>1</td>\n",
       "      <td>1</td>\n",
       "      <td>1</td>\n",
       "      <td>0</td>\n",
       "    </tr>\n",
       "    <tr>\n",
       "      <th>2</th>\n",
       "      <td>2</td>\n",
       "      <td>0</td>\n",
       "      <td>0</td>\n",
       "      <td>2</td>\n",
       "      <td>0</td>\n",
       "      <td>2</td>\n",
       "      <td>0</td>\n",
       "      <td>1</td>\n",
       "      <td>1</td>\n",
       "      <td>1</td>\n",
       "      <td>...</td>\n",
       "      <td>2</td>\n",
       "      <td>2</td>\n",
       "      <td>0</td>\n",
       "      <td>0</td>\n",
       "      <td>0</td>\n",
       "      <td>0</td>\n",
       "      <td>2</td>\n",
       "      <td>0</td>\n",
       "      <td>1</td>\n",
       "      <td>0</td>\n",
       "    </tr>\n",
       "    <tr>\n",
       "      <th>3</th>\n",
       "      <td>3</td>\n",
       "      <td>0</td>\n",
       "      <td>0</td>\n",
       "      <td>1</td>\n",
       "      <td>0</td>\n",
       "      <td>2</td>\n",
       "      <td>0</td>\n",
       "      <td>0</td>\n",
       "      <td>1</td>\n",
       "      <td>0</td>\n",
       "      <td>...</td>\n",
       "      <td>3</td>\n",
       "      <td>3</td>\n",
       "      <td>0</td>\n",
       "      <td>0</td>\n",
       "      <td>0</td>\n",
       "      <td>0</td>\n",
       "      <td>2</td>\n",
       "      <td>0</td>\n",
       "      <td>2</td>\n",
       "      <td>0</td>\n",
       "    </tr>\n",
       "    <tr>\n",
       "      <th>4</th>\n",
       "      <td>4</td>\n",
       "      <td>0</td>\n",
       "      <td>0</td>\n",
       "      <td>1</td>\n",
       "      <td>0</td>\n",
       "      <td>2</td>\n",
       "      <td>0</td>\n",
       "      <td>1</td>\n",
       "      <td>2</td>\n",
       "      <td>1</td>\n",
       "      <td>...</td>\n",
       "      <td>3</td>\n",
       "      <td>3</td>\n",
       "      <td>0</td>\n",
       "      <td>0</td>\n",
       "      <td>1</td>\n",
       "      <td>0</td>\n",
       "      <td>2</td>\n",
       "      <td>0</td>\n",
       "      <td>0</td>\n",
       "      <td>1</td>\n",
       "    </tr>\n",
       "  </tbody>\n",
       "</table>\n",
       "<p>5 rows × 21 columns</p>\n",
       "</div>"
      ],
      "text/plain": [
       "   Unnamed: 0  BirthAsphyxia  HypDistrib  HypoxiaInO2  CO2  ChestXray  \\\n",
       "0           0              0           0            2    0          0   \n",
       "1           1              0           0            1    1          1   \n",
       "2           2              0           0            2    0          2   \n",
       "3           3              0           0            1    0          2   \n",
       "4           4              0           0            1    0          2   \n",
       "\n",
       "   Grunting  LVHreport  LowerBodyO2  RUQO2  ...  XrayReport  Disease  \\\n",
       "0         1          0            1      0  ...           0        0   \n",
       "1         0          0            0      1  ...           1        1   \n",
       "2         0          1            1      1  ...           2        2   \n",
       "3         0          0            1      0  ...           3        3   \n",
       "4         0          1            2      1  ...           3        3   \n",
       "\n",
       "   GruntingReport  Age  LVH  DuctFlow  CardiacMixing  LungParench  LungFlow  \\\n",
       "0               0    1    0         0              0            0         0   \n",
       "1               0    0    0         1              1            1         1   \n",
       "2               0    0    0         0              2            0         1   \n",
       "3               0    0    0         0              2            0         2   \n",
       "4               0    0    1         0              2            0         0   \n",
       "\n",
       "   Sick  \n",
       "0     0  \n",
       "1     0  \n",
       "2     0  \n",
       "3     0  \n",
       "4     1  \n",
       "\n",
       "[5 rows x 21 columns]"
      ]
     },
     "execution_count": 178,
     "metadata": {},
     "output_type": "execute_result"
    }
   ],
   "source": [
    "df.head()"
   ]
  },
  {
   "cell_type": "markdown",
   "metadata": {},
   "source": [
    "## Calculate Memory Usage Differences"
   ]
  },
  {
   "cell_type": "code",
   "execution_count": 179,
   "metadata": {
    "execution": {
     "iopub.execute_input": "2024-05-12T04:33:30.959855Z",
     "iopub.status.busy": "2024-05-12T04:33:30.958932Z",
     "iopub.status.idle": "2024-05-12T04:33:30.983592Z",
     "shell.execute_reply": "2024-05-12T04:33:30.982166Z",
     "shell.execute_reply.started": "2024-05-12T04:33:30.959800Z"
    }
   },
   "outputs": [
    {
     "name": "stdout",
     "output_type": "stream",
     "text": [
      "Index                132\n",
      "Unnamed: 0        120000\n",
      "BirthAsphyxia     120000\n",
      "HypDistrib        120000\n",
      "HypoxiaInO2       120000\n",
      "CO2               120000\n",
      "ChestXray         120000\n",
      "Grunting          120000\n",
      "LVHreport         120000\n",
      "LowerBodyO2       120000\n",
      "RUQO2             120000\n",
      "CO2Report         120000\n",
      "XrayReport        120000\n",
      "Disease           120000\n",
      "GruntingReport    120000\n",
      "Age               120000\n",
      "LVH               120000\n",
      "DuctFlow          120000\n",
      "CardiacMixing     120000\n",
      "LungParench       120000\n",
      "LungFlow          120000\n",
      "Sick              120000\n",
      "dtype: int64\n",
      "\n",
      "Index                132\n",
      "Unnamed: 0        120000\n",
      "BirthAsphyxia     120000\n",
      "HypDistrib        120000\n",
      "HypoxiaInO2       120000\n",
      "CO2               120000\n",
      "ChestXray         120000\n",
      "Grunting          120000\n",
      "LVHreport         120000\n",
      "LowerBodyO2       120000\n",
      "RUQO2             120000\n",
      "CO2Report         120000\n",
      "XrayReport        120000\n",
      "Disease           120000\n",
      "GruntingReport    120000\n",
      "Age               120000\n",
      "LVH               120000\n",
      "DuctFlow          120000\n",
      "CardiacMixing     120000\n",
      "LungParench       120000\n",
      "LungFlow          120000\n",
      "Sick              120000\n",
      "dtype: int64\n"
     ]
    }
   ],
   "source": [
    "print(df.memory_usage())\n",
    "print()\n",
    "print(df.memory_usage(deep=True))"
   ]
  },
  {
   "cell_type": "markdown",
   "metadata": {},
   "source": [
    "## Explore Statistical Facts"
   ]
  },
  {
   "cell_type": "code",
   "execution_count": 180,
   "metadata": {
    "execution": {
     "iopub.execute_input": "2024-05-12T04:33:30.986394Z",
     "iopub.status.busy": "2024-05-12T04:33:30.985430Z",
     "iopub.status.idle": "2024-05-12T04:33:31.093051Z",
     "shell.execute_reply": "2024-05-12T04:33:31.091535Z",
     "shell.execute_reply.started": "2024-05-12T04:33:30.986343Z"
    }
   },
   "outputs": [
    {
     "data": {
      "text/html": [
       "<div>\n",
       "<style scoped>\n",
       "    .dataframe tbody tr th:only-of-type {\n",
       "        vertical-align: middle;\n",
       "    }\n",
       "\n",
       "    .dataframe tbody tr th {\n",
       "        vertical-align: top;\n",
       "    }\n",
       "\n",
       "    .dataframe thead th {\n",
       "        text-align: right;\n",
       "    }\n",
       "</style>\n",
       "<table border=\"1\" class=\"dataframe\">\n",
       "  <thead>\n",
       "    <tr style=\"text-align: right;\">\n",
       "      <th></th>\n",
       "      <th>Unnamed: 0</th>\n",
       "      <th>BirthAsphyxia</th>\n",
       "      <th>HypDistrib</th>\n",
       "      <th>HypoxiaInO2</th>\n",
       "      <th>CO2</th>\n",
       "      <th>ChestXray</th>\n",
       "      <th>Grunting</th>\n",
       "      <th>LVHreport</th>\n",
       "      <th>LowerBodyO2</th>\n",
       "      <th>RUQO2</th>\n",
       "      <th>...</th>\n",
       "      <th>XrayReport</th>\n",
       "      <th>Disease</th>\n",
       "      <th>GruntingReport</th>\n",
       "      <th>Age</th>\n",
       "      <th>LVH</th>\n",
       "      <th>DuctFlow</th>\n",
       "      <th>CardiacMixing</th>\n",
       "      <th>LungParench</th>\n",
       "      <th>LungFlow</th>\n",
       "      <th>Sick</th>\n",
       "    </tr>\n",
       "  </thead>\n",
       "  <tbody>\n",
       "    <tr>\n",
       "      <th>count</th>\n",
       "      <td>15000.000000</td>\n",
       "      <td>15000.000000</td>\n",
       "      <td>15000.000000</td>\n",
       "      <td>15000.000000</td>\n",
       "      <td>15000.000000</td>\n",
       "      <td>15000.000000</td>\n",
       "      <td>15000.000000</td>\n",
       "      <td>15000.000000</td>\n",
       "      <td>15000.000000</td>\n",
       "      <td>15000.000000</td>\n",
       "      <td>...</td>\n",
       "      <td>15000.000000</td>\n",
       "      <td>15000.000000</td>\n",
       "      <td>15000.000000</td>\n",
       "      <td>15000.000000</td>\n",
       "      <td>15000.000000</td>\n",
       "      <td>15000.000000</td>\n",
       "      <td>15000.000000</td>\n",
       "      <td>15000.000000</td>\n",
       "      <td>15000.000000</td>\n",
       "      <td>15000.000000</td>\n",
       "    </tr>\n",
       "    <tr>\n",
       "      <th>mean</th>\n",
       "      <td>7499.500000</td>\n",
       "      <td>0.026533</td>\n",
       "      <td>0.027267</td>\n",
       "      <td>1.327533</td>\n",
       "      <td>0.235200</td>\n",
       "      <td>1.812267</td>\n",
       "      <td>0.121400</td>\n",
       "      <td>0.199133</td>\n",
       "      <td>0.657400</td>\n",
       "      <td>0.687200</td>\n",
       "      <td>...</td>\n",
       "      <td>2.459133</td>\n",
       "      <td>1.475933</td>\n",
       "      <td>0.159133</td>\n",
       "      <td>0.386467</td>\n",
       "      <td>0.188467</td>\n",
       "      <td>0.073467</td>\n",
       "      <td>1.288667</td>\n",
       "      <td>0.236467</td>\n",
       "      <td>1.352267</td>\n",
       "      <td>0.237733</td>\n",
       "    </tr>\n",
       "    <tr>\n",
       "      <th>std</th>\n",
       "      <td>4330.271354</td>\n",
       "      <td>0.160720</td>\n",
       "      <td>0.162865</td>\n",
       "      <td>0.608835</td>\n",
       "      <td>0.527541</td>\n",
       "      <td>1.360225</td>\n",
       "      <td>0.326602</td>\n",
       "      <td>0.399362</td>\n",
       "      <td>0.640562</td>\n",
       "      <td>0.646981</td>\n",
       "      <td>...</td>\n",
       "      <td>1.225301</td>\n",
       "      <td>1.377854</td>\n",
       "      <td>0.365813</td>\n",
       "      <td>0.667588</td>\n",
       "      <td>0.391097</td>\n",
       "      <td>0.260910</td>\n",
       "      <td>0.922277</td>\n",
       "      <td>0.526531</td>\n",
       "      <td>0.703378</td>\n",
       "      <td>0.425709</td>\n",
       "    </tr>\n",
       "    <tr>\n",
       "      <th>min</th>\n",
       "      <td>0.000000</td>\n",
       "      <td>0.000000</td>\n",
       "      <td>0.000000</td>\n",
       "      <td>0.000000</td>\n",
       "      <td>0.000000</td>\n",
       "      <td>0.000000</td>\n",
       "      <td>0.000000</td>\n",
       "      <td>0.000000</td>\n",
       "      <td>0.000000</td>\n",
       "      <td>0.000000</td>\n",
       "      <td>...</td>\n",
       "      <td>0.000000</td>\n",
       "      <td>0.000000</td>\n",
       "      <td>0.000000</td>\n",
       "      <td>0.000000</td>\n",
       "      <td>0.000000</td>\n",
       "      <td>0.000000</td>\n",
       "      <td>0.000000</td>\n",
       "      <td>0.000000</td>\n",
       "      <td>0.000000</td>\n",
       "      <td>0.000000</td>\n",
       "    </tr>\n",
       "    <tr>\n",
       "      <th>25%</th>\n",
       "      <td>3749.750000</td>\n",
       "      <td>0.000000</td>\n",
       "      <td>0.000000</td>\n",
       "      <td>1.000000</td>\n",
       "      <td>0.000000</td>\n",
       "      <td>0.000000</td>\n",
       "      <td>0.000000</td>\n",
       "      <td>0.000000</td>\n",
       "      <td>0.000000</td>\n",
       "      <td>0.000000</td>\n",
       "      <td>...</td>\n",
       "      <td>2.000000</td>\n",
       "      <td>0.000000</td>\n",
       "      <td>0.000000</td>\n",
       "      <td>0.000000</td>\n",
       "      <td>0.000000</td>\n",
       "      <td>0.000000</td>\n",
       "      <td>0.000000</td>\n",
       "      <td>0.000000</td>\n",
       "      <td>1.000000</td>\n",
       "      <td>0.000000</td>\n",
       "    </tr>\n",
       "    <tr>\n",
       "      <th>50%</th>\n",
       "      <td>7499.500000</td>\n",
       "      <td>0.000000</td>\n",
       "      <td>0.000000</td>\n",
       "      <td>1.000000</td>\n",
       "      <td>0.000000</td>\n",
       "      <td>2.000000</td>\n",
       "      <td>0.000000</td>\n",
       "      <td>0.000000</td>\n",
       "      <td>1.000000</td>\n",
       "      <td>1.000000</td>\n",
       "      <td>...</td>\n",
       "      <td>2.000000</td>\n",
       "      <td>1.000000</td>\n",
       "      <td>0.000000</td>\n",
       "      <td>0.000000</td>\n",
       "      <td>0.000000</td>\n",
       "      <td>0.000000</td>\n",
       "      <td>2.000000</td>\n",
       "      <td>0.000000</td>\n",
       "      <td>1.000000</td>\n",
       "      <td>0.000000</td>\n",
       "    </tr>\n",
       "    <tr>\n",
       "      <th>75%</th>\n",
       "      <td>11249.250000</td>\n",
       "      <td>0.000000</td>\n",
       "      <td>0.000000</td>\n",
       "      <td>2.000000</td>\n",
       "      <td>0.000000</td>\n",
       "      <td>3.000000</td>\n",
       "      <td>0.000000</td>\n",
       "      <td>0.000000</td>\n",
       "      <td>1.000000</td>\n",
       "      <td>1.000000</td>\n",
       "      <td>...</td>\n",
       "      <td>3.000000</td>\n",
       "      <td>3.000000</td>\n",
       "      <td>0.000000</td>\n",
       "      <td>1.000000</td>\n",
       "      <td>0.000000</td>\n",
       "      <td>0.000000</td>\n",
       "      <td>2.000000</td>\n",
       "      <td>0.000000</td>\n",
       "      <td>2.000000</td>\n",
       "      <td>0.000000</td>\n",
       "    </tr>\n",
       "    <tr>\n",
       "      <th>max</th>\n",
       "      <td>14999.000000</td>\n",
       "      <td>1.000000</td>\n",
       "      <td>1.000000</td>\n",
       "      <td>2.000000</td>\n",
       "      <td>2.000000</td>\n",
       "      <td>4.000000</td>\n",
       "      <td>1.000000</td>\n",
       "      <td>1.000000</td>\n",
       "      <td>2.000000</td>\n",
       "      <td>2.000000</td>\n",
       "      <td>...</td>\n",
       "      <td>4.000000</td>\n",
       "      <td>5.000000</td>\n",
       "      <td>1.000000</td>\n",
       "      <td>2.000000</td>\n",
       "      <td>1.000000</td>\n",
       "      <td>1.000000</td>\n",
       "      <td>2.000000</td>\n",
       "      <td>2.000000</td>\n",
       "      <td>2.000000</td>\n",
       "      <td>1.000000</td>\n",
       "    </tr>\n",
       "  </tbody>\n",
       "</table>\n",
       "<p>8 rows × 21 columns</p>\n",
       "</div>"
      ],
      "text/plain": [
       "         Unnamed: 0  BirthAsphyxia    HypDistrib   HypoxiaInO2           CO2  \\\n",
       "count  15000.000000   15000.000000  15000.000000  15000.000000  15000.000000   \n",
       "mean    7499.500000       0.026533      0.027267      1.327533      0.235200   \n",
       "std     4330.271354       0.160720      0.162865      0.608835      0.527541   \n",
       "min        0.000000       0.000000      0.000000      0.000000      0.000000   \n",
       "25%     3749.750000       0.000000      0.000000      1.000000      0.000000   \n",
       "50%     7499.500000       0.000000      0.000000      1.000000      0.000000   \n",
       "75%    11249.250000       0.000000      0.000000      2.000000      0.000000   \n",
       "max    14999.000000       1.000000      1.000000      2.000000      2.000000   \n",
       "\n",
       "          ChestXray      Grunting     LVHreport   LowerBodyO2         RUQO2  \\\n",
       "count  15000.000000  15000.000000  15000.000000  15000.000000  15000.000000   \n",
       "mean       1.812267      0.121400      0.199133      0.657400      0.687200   \n",
       "std        1.360225      0.326602      0.399362      0.640562      0.646981   \n",
       "min        0.000000      0.000000      0.000000      0.000000      0.000000   \n",
       "25%        0.000000      0.000000      0.000000      0.000000      0.000000   \n",
       "50%        2.000000      0.000000      0.000000      1.000000      1.000000   \n",
       "75%        3.000000      0.000000      0.000000      1.000000      1.000000   \n",
       "max        4.000000      1.000000      1.000000      2.000000      2.000000   \n",
       "\n",
       "       ...    XrayReport       Disease  GruntingReport           Age  \\\n",
       "count  ...  15000.000000  15000.000000    15000.000000  15000.000000   \n",
       "mean   ...      2.459133      1.475933        0.159133      0.386467   \n",
       "std    ...      1.225301      1.377854        0.365813      0.667588   \n",
       "min    ...      0.000000      0.000000        0.000000      0.000000   \n",
       "25%    ...      2.000000      0.000000        0.000000      0.000000   \n",
       "50%    ...      2.000000      1.000000        0.000000      0.000000   \n",
       "75%    ...      3.000000      3.000000        0.000000      1.000000   \n",
       "max    ...      4.000000      5.000000        1.000000      2.000000   \n",
       "\n",
       "                LVH      DuctFlow  CardiacMixing   LungParench      LungFlow  \\\n",
       "count  15000.000000  15000.000000   15000.000000  15000.000000  15000.000000   \n",
       "mean       0.188467      0.073467       1.288667      0.236467      1.352267   \n",
       "std        0.391097      0.260910       0.922277      0.526531      0.703378   \n",
       "min        0.000000      0.000000       0.000000      0.000000      0.000000   \n",
       "25%        0.000000      0.000000       0.000000      0.000000      1.000000   \n",
       "50%        0.000000      0.000000       2.000000      0.000000      1.000000   \n",
       "75%        0.000000      0.000000       2.000000      0.000000      2.000000   \n",
       "max        1.000000      1.000000       2.000000      2.000000      2.000000   \n",
       "\n",
       "               Sick  \n",
       "count  15000.000000  \n",
       "mean       0.237733  \n",
       "std        0.425709  \n",
       "min        0.000000  \n",
       "25%        0.000000  \n",
       "50%        0.000000  \n",
       "75%        0.000000  \n",
       "max        1.000000  \n",
       "\n",
       "[8 rows x 21 columns]"
      ]
     },
     "execution_count": 180,
     "metadata": {},
     "output_type": "execute_result"
    }
   ],
   "source": [
    "df.describe()"
   ]
  },
  {
   "cell_type": "markdown",
   "metadata": {},
   "source": [
    "## The Dataset is ready to work on ;)"
   ]
  }
 ],
 "metadata": {
  "kaggle": {
   "accelerator": "none",
   "dataSources": [
    {
     "databundleVersionId": 6155396,
     "datasetId": 3478721,
     "sourceId": 6077003,
     "sourceType": "datasetVersion"
    }
   ],
   "dockerImageVersionId": 30698,
   "isGpuEnabled": false,
   "isInternetEnabled": true,
   "language": "python",
   "sourceType": "notebook"
  },
  "kernelspec": {
   "display_name": "Basic Kernel",
   "language": "python",
   "name": "basic_kernel"
  },
  "language_info": {
   "codemirror_mode": {
    "name": "ipython",
    "version": 3
   },
   "file_extension": ".py",
   "mimetype": "text/x-python",
   "name": "python",
   "nbconvert_exporter": "python",
   "pygments_lexer": "ipython3",
   "version": "3.11.7"
  }
 },
 "nbformat": 4,
 "nbformat_minor": 4
}
