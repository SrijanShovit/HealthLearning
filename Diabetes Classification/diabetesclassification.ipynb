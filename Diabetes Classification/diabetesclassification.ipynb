{
 "cells": [
  {
   "cell_type": "markdown",
   "id": "0cd5adbd",
   "metadata": {},
   "source": [
    "IMPORTING THE REQUIRED DEPENDENCIES"
   ]
  },
  {
   "cell_type": "code",
   "execution_count": 72,
   "id": "312c95a1",
   "metadata": {},
   "outputs": [],
   "source": [
    "import numpy as np\n",
    "import pandas as pd"
   ]
  },
  {
   "cell_type": "markdown",
   "id": "48345ef3",
   "metadata": {},
   "source": [
    "LOADING THE DATASET"
   ]
  },
  {
   "cell_type": "code",
   "execution_count": 73,
   "id": "aea1b45b",
   "metadata": {},
   "outputs": [],
   "source": [
    "data = pd.read_csv('data\\diabetesdata.csv')                             "
   ]
  },
  {
   "cell_type": "markdown",
   "id": "cb438c11",
   "metadata": {},
   "source": [
    "VISUALISING THE DATASET"
   ]
  },
  {
   "cell_type": "code",
   "execution_count": 74,
   "id": "2ac5c17b",
   "metadata": {},
   "outputs": [
    {
     "data": {
      "text/html": [
       "<div>\n",
       "<style scoped>\n",
       "    .dataframe tbody tr th:only-of-type {\n",
       "        vertical-align: middle;\n",
       "    }\n",
       "\n",
       "    .dataframe tbody tr th {\n",
       "        vertical-align: top;\n",
       "    }\n",
       "\n",
       "    .dataframe thead th {\n",
       "        text-align: right;\n",
       "    }\n",
       "</style>\n",
       "<table border=\"1\" class=\"dataframe\">\n",
       "  <thead>\n",
       "    <tr style=\"text-align: right;\">\n",
       "      <th></th>\n",
       "      <th>Unnamed: 0</th>\n",
       "      <th>Age</th>\n",
       "      <th>Gender</th>\n",
       "      <th>BMI</th>\n",
       "      <th>Chol</th>\n",
       "      <th>TG</th>\n",
       "      <th>HDL</th>\n",
       "      <th>LDL</th>\n",
       "      <th>Cr</th>\n",
       "      <th>BUN</th>\n",
       "      <th>Diagnosis</th>\n",
       "    </tr>\n",
       "  </thead>\n",
       "  <tbody>\n",
       "    <tr>\n",
       "      <th>0</th>\n",
       "      <td>0</td>\n",
       "      <td>50</td>\n",
       "      <td>F</td>\n",
       "      <td>24</td>\n",
       "      <td>4.20</td>\n",
       "      <td>0.90</td>\n",
       "      <td>2.40</td>\n",
       "      <td>1.40</td>\n",
       "      <td>46.0</td>\n",
       "      <td>4.70</td>\n",
       "      <td>0</td>\n",
       "    </tr>\n",
       "    <tr>\n",
       "      <th>1</th>\n",
       "      <td>1</td>\n",
       "      <td>26</td>\n",
       "      <td>M</td>\n",
       "      <td>23</td>\n",
       "      <td>3.70</td>\n",
       "      <td>1.40</td>\n",
       "      <td>1.10</td>\n",
       "      <td>2.10</td>\n",
       "      <td>62.0</td>\n",
       "      <td>4.50</td>\n",
       "      <td>0</td>\n",
       "    </tr>\n",
       "    <tr>\n",
       "      <th>2</th>\n",
       "      <td>2</td>\n",
       "      <td>33</td>\n",
       "      <td>M</td>\n",
       "      <td>21</td>\n",
       "      <td>4.90</td>\n",
       "      <td>1.00</td>\n",
       "      <td>0.80</td>\n",
       "      <td>2.00</td>\n",
       "      <td>46.0</td>\n",
       "      <td>7.10</td>\n",
       "      <td>0</td>\n",
       "    </tr>\n",
       "    <tr>\n",
       "      <th>3</th>\n",
       "      <td>3</td>\n",
       "      <td>45</td>\n",
       "      <td>F</td>\n",
       "      <td>21</td>\n",
       "      <td>2.90</td>\n",
       "      <td>1.00</td>\n",
       "      <td>1.00</td>\n",
       "      <td>1.50</td>\n",
       "      <td>24.0</td>\n",
       "      <td>2.30</td>\n",
       "      <td>0</td>\n",
       "    </tr>\n",
       "    <tr>\n",
       "      <th>4</th>\n",
       "      <td>4</td>\n",
       "      <td>50</td>\n",
       "      <td>F</td>\n",
       "      <td>24</td>\n",
       "      <td>3.60</td>\n",
       "      <td>1.30</td>\n",
       "      <td>0.90</td>\n",
       "      <td>2.10</td>\n",
       "      <td>50.0</td>\n",
       "      <td>2.00</td>\n",
       "      <td>0</td>\n",
       "    </tr>\n",
       "    <tr>\n",
       "      <th>...</th>\n",
       "      <td>...</td>\n",
       "      <td>...</td>\n",
       "      <td>...</td>\n",
       "      <td>...</td>\n",
       "      <td>...</td>\n",
       "      <td>...</td>\n",
       "      <td>...</td>\n",
       "      <td>...</td>\n",
       "      <td>...</td>\n",
       "      <td>...</td>\n",
       "      <td>...</td>\n",
       "    </tr>\n",
       "    <tr>\n",
       "      <th>5127</th>\n",
       "      <td>5127</td>\n",
       "      <td>54</td>\n",
       "      <td>M</td>\n",
       "      <td>23</td>\n",
       "      <td>5.00</td>\n",
       "      <td>1.50</td>\n",
       "      <td>1.24</td>\n",
       "      <td>2.98</td>\n",
       "      <td>77.0</td>\n",
       "      <td>3.50</td>\n",
       "      <td>1</td>\n",
       "    </tr>\n",
       "    <tr>\n",
       "      <th>5128</th>\n",
       "      <td>5128</td>\n",
       "      <td>50</td>\n",
       "      <td>F</td>\n",
       "      <td>22</td>\n",
       "      <td>4.37</td>\n",
       "      <td>2.09</td>\n",
       "      <td>1.37</td>\n",
       "      <td>2.29</td>\n",
       "      <td>47.3</td>\n",
       "      <td>4.40</td>\n",
       "      <td>1</td>\n",
       "    </tr>\n",
       "    <tr>\n",
       "      <th>5129</th>\n",
       "      <td>5129</td>\n",
       "      <td>67</td>\n",
       "      <td>M</td>\n",
       "      <td>24</td>\n",
       "      <td>3.89</td>\n",
       "      <td>1.38</td>\n",
       "      <td>1.14</td>\n",
       "      <td>2.17</td>\n",
       "      <td>70.6</td>\n",
       "      <td>4.73</td>\n",
       "      <td>1</td>\n",
       "    </tr>\n",
       "    <tr>\n",
       "      <th>5130</th>\n",
       "      <td>5130</td>\n",
       "      <td>60</td>\n",
       "      <td>F</td>\n",
       "      <td>29</td>\n",
       "      <td>5.91</td>\n",
       "      <td>1.29</td>\n",
       "      <td>1.73</td>\n",
       "      <td>2.85</td>\n",
       "      <td>50.2</td>\n",
       "      <td>7.33</td>\n",
       "      <td>1</td>\n",
       "    </tr>\n",
       "    <tr>\n",
       "      <th>5131</th>\n",
       "      <td>5131</td>\n",
       "      <td>37</td>\n",
       "      <td>M</td>\n",
       "      <td>34</td>\n",
       "      <td>5.42</td>\n",
       "      <td>2.66</td>\n",
       "      <td>1.08</td>\n",
       "      <td>2.87</td>\n",
       "      <td>75.5</td>\n",
       "      <td>4.61</td>\n",
       "      <td>1</td>\n",
       "    </tr>\n",
       "  </tbody>\n",
       "</table>\n",
       "<p>5132 rows × 11 columns</p>\n",
       "</div>"
      ],
      "text/plain": [
       "      Unnamed: 0  Age Gender  BMI  Chol    TG   HDL   LDL    Cr   BUN  \\\n",
       "0              0   50      F   24  4.20  0.90  2.40  1.40  46.0  4.70   \n",
       "1              1   26      M   23  3.70  1.40  1.10  2.10  62.0  4.50   \n",
       "2              2   33      M   21  4.90  1.00  0.80  2.00  46.0  7.10   \n",
       "3              3   45      F   21  2.90  1.00  1.00  1.50  24.0  2.30   \n",
       "4              4   50      F   24  3.60  1.30  0.90  2.10  50.0  2.00   \n",
       "...          ...  ...    ...  ...   ...   ...   ...   ...   ...   ...   \n",
       "5127        5127   54      M   23  5.00  1.50  1.24  2.98  77.0  3.50   \n",
       "5128        5128   50      F   22  4.37  2.09  1.37  2.29  47.3  4.40   \n",
       "5129        5129   67      M   24  3.89  1.38  1.14  2.17  70.6  4.73   \n",
       "5130        5130   60      F   29  5.91  1.29  1.73  2.85  50.2  7.33   \n",
       "5131        5131   37      M   34  5.42  2.66  1.08  2.87  75.5  4.61   \n",
       "\n",
       "      Diagnosis  \n",
       "0             0  \n",
       "1             0  \n",
       "2             0  \n",
       "3             0  \n",
       "4             0  \n",
       "...         ...  \n",
       "5127          1  \n",
       "5128          1  \n",
       "5129          1  \n",
       "5130          1  \n",
       "5131          1  \n",
       "\n",
       "[5132 rows x 11 columns]"
      ]
     },
     "execution_count": 74,
     "metadata": {},
     "output_type": "execute_result"
    }
   ],
   "source": [
    "data"
   ]
  },
  {
   "cell_type": "code",
   "execution_count": 75,
   "id": "c4484360",
   "metadata": {},
   "outputs": [
    {
     "data": {
      "text/html": [
       "<div>\n",
       "<style scoped>\n",
       "    .dataframe tbody tr th:only-of-type {\n",
       "        vertical-align: middle;\n",
       "    }\n",
       "\n",
       "    .dataframe tbody tr th {\n",
       "        vertical-align: top;\n",
       "    }\n",
       "\n",
       "    .dataframe thead th {\n",
       "        text-align: right;\n",
       "    }\n",
       "</style>\n",
       "<table border=\"1\" class=\"dataframe\">\n",
       "  <thead>\n",
       "    <tr style=\"text-align: right;\">\n",
       "      <th></th>\n",
       "      <th>Unnamed: 0</th>\n",
       "      <th>Age</th>\n",
       "      <th>Gender</th>\n",
       "      <th>BMI</th>\n",
       "      <th>Chol</th>\n",
       "      <th>TG</th>\n",
       "      <th>HDL</th>\n",
       "      <th>LDL</th>\n",
       "      <th>Cr</th>\n",
       "      <th>BUN</th>\n",
       "      <th>Diagnosis</th>\n",
       "    </tr>\n",
       "  </thead>\n",
       "  <tbody>\n",
       "    <tr>\n",
       "      <th>0</th>\n",
       "      <td>0</td>\n",
       "      <td>50</td>\n",
       "      <td>F</td>\n",
       "      <td>24</td>\n",
       "      <td>4.2</td>\n",
       "      <td>0.9</td>\n",
       "      <td>2.4</td>\n",
       "      <td>1.4</td>\n",
       "      <td>46.0</td>\n",
       "      <td>4.7</td>\n",
       "      <td>0</td>\n",
       "    </tr>\n",
       "    <tr>\n",
       "      <th>1</th>\n",
       "      <td>1</td>\n",
       "      <td>26</td>\n",
       "      <td>M</td>\n",
       "      <td>23</td>\n",
       "      <td>3.7</td>\n",
       "      <td>1.4</td>\n",
       "      <td>1.1</td>\n",
       "      <td>2.1</td>\n",
       "      <td>62.0</td>\n",
       "      <td>4.5</td>\n",
       "      <td>0</td>\n",
       "    </tr>\n",
       "    <tr>\n",
       "      <th>2</th>\n",
       "      <td>2</td>\n",
       "      <td>33</td>\n",
       "      <td>M</td>\n",
       "      <td>21</td>\n",
       "      <td>4.9</td>\n",
       "      <td>1.0</td>\n",
       "      <td>0.8</td>\n",
       "      <td>2.0</td>\n",
       "      <td>46.0</td>\n",
       "      <td>7.1</td>\n",
       "      <td>0</td>\n",
       "    </tr>\n",
       "    <tr>\n",
       "      <th>3</th>\n",
       "      <td>3</td>\n",
       "      <td>45</td>\n",
       "      <td>F</td>\n",
       "      <td>21</td>\n",
       "      <td>2.9</td>\n",
       "      <td>1.0</td>\n",
       "      <td>1.0</td>\n",
       "      <td>1.5</td>\n",
       "      <td>24.0</td>\n",
       "      <td>2.3</td>\n",
       "      <td>0</td>\n",
       "    </tr>\n",
       "    <tr>\n",
       "      <th>4</th>\n",
       "      <td>4</td>\n",
       "      <td>50</td>\n",
       "      <td>F</td>\n",
       "      <td>24</td>\n",
       "      <td>3.6</td>\n",
       "      <td>1.3</td>\n",
       "      <td>0.9</td>\n",
       "      <td>2.1</td>\n",
       "      <td>50.0</td>\n",
       "      <td>2.0</td>\n",
       "      <td>0</td>\n",
       "    </tr>\n",
       "  </tbody>\n",
       "</table>\n",
       "</div>"
      ],
      "text/plain": [
       "   Unnamed: 0  Age Gender  BMI  Chol   TG  HDL  LDL    Cr  BUN  Diagnosis\n",
       "0           0   50      F   24   4.2  0.9  2.4  1.4  46.0  4.7          0\n",
       "1           1   26      M   23   3.7  1.4  1.1  2.1  62.0  4.5          0\n",
       "2           2   33      M   21   4.9  1.0  0.8  2.0  46.0  7.1          0\n",
       "3           3   45      F   21   2.9  1.0  1.0  1.5  24.0  2.3          0\n",
       "4           4   50      F   24   3.6  1.3  0.9  2.1  50.0  2.0          0"
      ]
     },
     "execution_count": 75,
     "metadata": {},
     "output_type": "execute_result"
    }
   ],
   "source": [
    "data.head()"
   ]
  },
  {
   "cell_type": "markdown",
   "id": "2474d73b",
   "metadata": {},
   "source": [
    "WE ARE OBSERVING THE SHAPE OF THE DATASET AND OBSERVE THAT THE DATASET HAS 5132 ROWS AND 11 COLUMNS"
   ]
  },
  {
   "cell_type": "code",
   "execution_count": 76,
   "id": "ea7c6dcb",
   "metadata": {},
   "outputs": [
    {
     "data": {
      "text/plain": [
       "(5132, 11)"
      ]
     },
     "execution_count": 76,
     "metadata": {},
     "output_type": "execute_result"
    }
   ],
   "source": [
    "data.shape"
   ]
  },
  {
   "cell_type": "markdown",
   "id": "cdda3c35",
   "metadata": {},
   "source": [
    "IN THE CELL BELOW WE OBSERVE THE DATATYPE OF EACH COLUMN IN THE DATASET AND THE NUMBER OF NON NULL ROWS IN EACH COLUMN"
   ]
  },
  {
   "cell_type": "code",
   "execution_count": 77,
   "id": "a3c2ff78",
   "metadata": {},
   "outputs": [
    {
     "name": "stdout",
     "output_type": "stream",
     "text": [
      "<class 'pandas.core.frame.DataFrame'>\n",
      "RangeIndex: 5132 entries, 0 to 5131\n",
      "Data columns (total 11 columns):\n",
      " #   Column      Non-Null Count  Dtype  \n",
      "---  ------      --------------  -----  \n",
      " 0   Unnamed: 0  5132 non-null   int64  \n",
      " 1   Age         5132 non-null   int64  \n",
      " 2   Gender      5132 non-null   object \n",
      " 3   BMI         5132 non-null   int64  \n",
      " 4   Chol        5132 non-null   float64\n",
      " 5   TG          5132 non-null   float64\n",
      " 6   HDL         5132 non-null   float64\n",
      " 7   LDL         5132 non-null   float64\n",
      " 8   Cr          5132 non-null   float64\n",
      " 9   BUN         5132 non-null   float64\n",
      " 10  Diagnosis   5132 non-null   int64  \n",
      "dtypes: float64(6), int64(4), object(1)\n",
      "memory usage: 441.2+ KB\n"
     ]
    }
   ],
   "source": [
    "data.info()"
   ]
  },
  {
   "cell_type": "markdown",
   "id": "6908e51f",
   "metadata": {},
   "source": [
    "WE ARE DROPPING THE UNNAMED:0 COLUNMN FROM THE PANDAS DATAFRAME AS IT IS IRRELEVANT TO OUR CODE AND CHANGING THE DATATYPE OF BMI FROM INT TO FLOAT AS IT IS MORE APPROPRIATE"
   ]
  },
  {
   "cell_type": "code",
   "execution_count": 78,
   "id": "a9cc7614",
   "metadata": {},
   "outputs": [],
   "source": [
    "data_new = data.drop(['Unnamed: 0'], axis=1)\n",
    "data_new['BMI'] = data_new['BMI'].astype(float)"
   ]
  },
  {
   "cell_type": "code",
   "execution_count": 79,
   "id": "cdee3c52",
   "metadata": {},
   "outputs": [
    {
     "name": "stdout",
     "output_type": "stream",
     "text": [
      "<class 'pandas.core.frame.DataFrame'>\n",
      "RangeIndex: 5132 entries, 0 to 5131\n",
      "Data columns (total 10 columns):\n",
      " #   Column     Non-Null Count  Dtype  \n",
      "---  ------     --------------  -----  \n",
      " 0   Age        5132 non-null   int64  \n",
      " 1   Gender     5132 non-null   object \n",
      " 2   BMI        5132 non-null   float64\n",
      " 3   Chol       5132 non-null   float64\n",
      " 4   TG         5132 non-null   float64\n",
      " 5   HDL        5132 non-null   float64\n",
      " 6   LDL        5132 non-null   float64\n",
      " 7   Cr         5132 non-null   float64\n",
      " 8   BUN        5132 non-null   float64\n",
      " 9   Diagnosis  5132 non-null   int64  \n",
      "dtypes: float64(7), int64(2), object(1)\n",
      "memory usage: 401.1+ KB\n"
     ]
    }
   ],
   "source": [
    "data_new.info()"
   ]
  },
  {
   "cell_type": "markdown",
   "id": "93448fc7",
   "metadata": {},
   "source": [
    "WE ARE CALCULATING STATISTICAL FACTS LIKE THE MEAN , MEDIAN , STANDARS DEVIATION AND PERCENTILES FOR EACH APPLICABLE COLUMN IN THE DATAFRAME"
   ]
  },
  {
   "cell_type": "code",
   "execution_count": 80,
   "id": "2f353609",
   "metadata": {},
   "outputs": [
    {
     "data": {
      "text/plain": [
       "count    5132.000000\n",
       "mean       48.950312\n",
       "std        14.048794\n",
       "min        20.000000\n",
       "25%        36.000000\n",
       "50%        49.000000\n",
       "75%        59.000000\n",
       "max        93.000000\n",
       "Name: Age, dtype: float64"
      ]
     },
     "execution_count": 80,
     "metadata": {},
     "output_type": "execute_result"
    }
   ],
   "source": [
    "data_new.Age.describe()"
   ]
  },
  {
   "cell_type": "code",
   "execution_count": 81,
   "id": "b7887949",
   "metadata": {},
   "outputs": [
    {
     "data": {
      "text/plain": [
       "count    5132.000000\n",
       "mean       24.613406\n",
       "std         4.277205\n",
       "min        15.000000\n",
       "25%        22.000000\n",
       "50%        24.000000\n",
       "75%        27.000000\n",
       "max        47.000000\n",
       "Name: BMI, dtype: float64"
      ]
     },
     "execution_count": 81,
     "metadata": {},
     "output_type": "execute_result"
    }
   ],
   "source": [
    "data_new.BMI.describe()"
   ]
  },
  {
   "cell_type": "code",
   "execution_count": 82,
   "id": "fdf468b3",
   "metadata": {},
   "outputs": [
    {
     "data": {
      "text/plain": [
       "count    5132.000000\n",
       "mean        4.866882\n",
       "std         1.001052\n",
       "min         0.000000\n",
       "25%         4.190000\n",
       "50%         4.800000\n",
       "75%         5.460000\n",
       "max        11.650000\n",
       "Name: Chol, dtype: float64"
      ]
     },
     "execution_count": 82,
     "metadata": {},
     "output_type": "execute_result"
    }
   ],
   "source": [
    "data_new.Chol.describe()"
   ]
  },
  {
   "cell_type": "code",
   "execution_count": 83,
   "id": "7877549d",
   "metadata": {},
   "outputs": [
    {
     "data": {
      "text/plain": [
       "count    5132.000000\n",
       "mean        1.719328\n",
       "std         1.327057\n",
       "min         0.000000\n",
       "25%         0.910000\n",
       "50%         1.380000\n",
       "75%         2.100000\n",
       "max        32.640000\n",
       "Name: TG, dtype: float64"
      ]
     },
     "execution_count": 83,
     "metadata": {},
     "output_type": "execute_result"
    }
   ],
   "source": [
    "data_new.TG.describe()"
   ]
  },
  {
   "cell_type": "code",
   "execution_count": 84,
   "id": "71ec5fcb",
   "metadata": {},
   "outputs": [
    {
     "data": {
      "text/plain": [
       "count    5132.000000\n",
       "mean        1.593305\n",
       "std         1.038849\n",
       "min         0.000000\n",
       "25%         1.090000\n",
       "50%         1.300000\n",
       "75%         1.590000\n",
       "max         9.900000\n",
       "Name: HDL, dtype: float64"
      ]
     },
     "execution_count": 84,
     "metadata": {},
     "output_type": "execute_result"
    }
   ],
   "source": [
    "data_new.HDL.describe()"
   ]
  },
  {
   "cell_type": "code",
   "execution_count": 85,
   "id": "bbd3682c",
   "metadata": {},
   "outputs": [
    {
     "data": {
      "text/plain": [
       "count    5132.000000\n",
       "mean        2.914121\n",
       "std         0.945423\n",
       "min         0.300000\n",
       "25%         2.290000\n",
       "50%         2.790000\n",
       "75%         3.400000\n",
       "max         9.900000\n",
       "Name: LDL, dtype: float64"
      ]
     },
     "execution_count": 85,
     "metadata": {},
     "output_type": "execute_result"
    }
   ],
   "source": [
    "data_new.LDL.describe()"
   ]
  },
  {
   "cell_type": "code",
   "execution_count": 86,
   "id": "c4603e52",
   "metadata": {},
   "outputs": [
    {
     "data": {
      "text/plain": [
       "count    5132.000000\n",
       "mean       71.144800\n",
       "std        28.494394\n",
       "min         4.860753\n",
       "25%        58.000000\n",
       "50%        70.200000\n",
       "75%        81.600000\n",
       "max       800.000000\n",
       "Name: Cr, dtype: float64"
      ]
     },
     "execution_count": 86,
     "metadata": {},
     "output_type": "execute_result"
    }
   ],
   "source": [
    "data_new.Cr.describe()"
   ]
  },
  {
   "cell_type": "code",
   "execution_count": 87,
   "id": "f98b84c7",
   "metadata": {},
   "outputs": [
    {
     "data": {
      "text/plain": [
       "count    5132.000000\n",
       "mean        4.896969\n",
       "std         1.689206\n",
       "min         0.500000\n",
       "25%         3.900000\n",
       "50%         4.720000\n",
       "75%         5.600000\n",
       "max        38.900000\n",
       "Name: BUN, dtype: float64"
      ]
     },
     "execution_count": 87,
     "metadata": {},
     "output_type": "execute_result"
    }
   ],
   "source": [
    "data_new.BUN.describe()"
   ]
  },
  {
   "cell_type": "markdown",
   "id": "48b5a9b6",
   "metadata": {},
   "source": [
    "WE ARE CALCULATING THE MEMORY OCCUPIED BY THE OLD AND NEW DATAFRAME IN BYTES AND WE CALCULATE ITS DIFFERENCE"
   ]
  },
  {
   "cell_type": "code",
   "execution_count": 88,
   "id": "a9add765",
   "metadata": {},
   "outputs": [
    {
     "name": "stdout",
     "output_type": "stream",
     "text": [
      "Memory usage of old DataFrame: 708348\n",
      "Memory usage of new DataFrame: 667292\n",
      "Memory usage difference: 41056\n"
     ]
    }
   ],
   "source": [
    "\n",
    "memory_old = data.memory_usage(deep=True).sum()\n",
    "memory_new = data_new.memory_usage(deep=True).sum()\n",
    "\n",
    "memory_difference = memory_old - memory_new\n",
    "\n",
    "print(\"Memory usage of old DataFrame:\", memory_old)\n",
    "print(\"Memory usage of new DataFrame:\", memory_new)\n",
    "print(\"Memory usage difference:\", memory_difference)\n"
   ]
  },
  {
   "cell_type": "code",
   "execution_count": null,
   "id": "086197f9",
   "metadata": {},
   "outputs": [],
   "source": []
  }
 ],
 "metadata": {
  "kernelspec": {
   "display_name": "Python 3 (ipykernel)",
   "language": "python",
   "name": "python3"
  },
  "language_info": {
   "codemirror_mode": {
    "name": "ipython",
    "version": 3
   },
   "file_extension": ".py",
   "mimetype": "text/x-python",
   "name": "python",
   "nbconvert_exporter": "python",
   "pygments_lexer": "ipython3",
   "version": "3.11.5"
  }
 },
 "nbformat": 4,
 "nbformat_minor": 5
}
