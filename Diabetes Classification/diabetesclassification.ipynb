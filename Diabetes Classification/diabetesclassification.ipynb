{
 "cells": [
  {
   "cell_type": "markdown",
   "id": "0cd5adbd",
   "metadata": {},
   "source": [
    "IMPORTING THE REQUIRED DEPENDENCIES"
   ]
  },
  {
   "cell_type": "code",
   "execution_count": 2,
   "id": "312c95a1",
   "metadata": {},
   "outputs": [],
   "source": [
    "import numpy as np\n",
    "import pandas as pd"
   ]
  },
  {
   "cell_type": "markdown",
   "id": "48345ef3",
   "metadata": {},
   "source": [
    "LOADING THE DATASET"
   ]
  },
  {
   "cell_type": "code",
   "execution_count": 3,
   "id": "aea1b45b",
   "metadata": {},
   "outputs": [],
   "source": [
    "data = pd.read_csv('diabetesdata.csv')                             "
   ]
  },
  {
   "cell_type": "markdown",
   "id": "cb438c11",
   "metadata": {},
   "source": [
    "VISUALISING THE DATASET"
   ]
  },
  {
   "cell_type": "code",
   "execution_count": 4,
   "id": "2ac5c17b",
   "metadata": {},
   "outputs": [
    {
     "data": {
      "text/html": [
       "<div>\n",
       "<style scoped>\n",
       "    .dataframe tbody tr th:only-of-type {\n",
       "        vertical-align: middle;\n",
       "    }\n",
       "\n",
       "    .dataframe tbody tr th {\n",
       "        vertical-align: top;\n",
       "    }\n",
       "\n",
       "    .dataframe thead th {\n",
       "        text-align: right;\n",
       "    }\n",
       "</style>\n",
       "<table border=\"1\" class=\"dataframe\">\n",
       "  <thead>\n",
       "    <tr style=\"text-align: right;\">\n",
       "      <th></th>\n",
       "      <th>Unnamed: 0</th>\n",
       "      <th>Age</th>\n",
       "      <th>Gender</th>\n",
       "      <th>BMI</th>\n",
       "      <th>Chol</th>\n",
       "      <th>TG</th>\n",
       "      <th>HDL</th>\n",
       "      <th>LDL</th>\n",
       "      <th>Cr</th>\n",
       "      <th>BUN</th>\n",
       "      <th>Diagnosis</th>\n",
       "    </tr>\n",
       "  </thead>\n",
       "  <tbody>\n",
       "    <tr>\n",
       "      <th>0</th>\n",
       "      <td>0</td>\n",
       "      <td>50</td>\n",
       "      <td>F</td>\n",
       "      <td>24</td>\n",
       "      <td>4.20</td>\n",
       "      <td>0.90</td>\n",
       "      <td>2.40</td>\n",
       "      <td>1.40</td>\n",
       "      <td>46.0</td>\n",
       "      <td>4.70</td>\n",
       "      <td>0</td>\n",
       "    </tr>\n",
       "    <tr>\n",
       "      <th>1</th>\n",
       "      <td>1</td>\n",
       "      <td>26</td>\n",
       "      <td>M</td>\n",
       "      <td>23</td>\n",
       "      <td>3.70</td>\n",
       "      <td>1.40</td>\n",
       "      <td>1.10</td>\n",
       "      <td>2.10</td>\n",
       "      <td>62.0</td>\n",
       "      <td>4.50</td>\n",
       "      <td>0</td>\n",
       "    </tr>\n",
       "    <tr>\n",
       "      <th>2</th>\n",
       "      <td>2</td>\n",
       "      <td>33</td>\n",
       "      <td>M</td>\n",
       "      <td>21</td>\n",
       "      <td>4.90</td>\n",
       "      <td>1.00</td>\n",
       "      <td>0.80</td>\n",
       "      <td>2.00</td>\n",
       "      <td>46.0</td>\n",
       "      <td>7.10</td>\n",
       "      <td>0</td>\n",
       "    </tr>\n",
       "    <tr>\n",
       "      <th>3</th>\n",
       "      <td>3</td>\n",
       "      <td>45</td>\n",
       "      <td>F</td>\n",
       "      <td>21</td>\n",
       "      <td>2.90</td>\n",
       "      <td>1.00</td>\n",
       "      <td>1.00</td>\n",
       "      <td>1.50</td>\n",
       "      <td>24.0</td>\n",
       "      <td>2.30</td>\n",
       "      <td>0</td>\n",
       "    </tr>\n",
       "    <tr>\n",
       "      <th>4</th>\n",
       "      <td>4</td>\n",
       "      <td>50</td>\n",
       "      <td>F</td>\n",
       "      <td>24</td>\n",
       "      <td>3.60</td>\n",
       "      <td>1.30</td>\n",
       "      <td>0.90</td>\n",
       "      <td>2.10</td>\n",
       "      <td>50.0</td>\n",
       "      <td>2.00</td>\n",
       "      <td>0</td>\n",
       "    </tr>\n",
       "    <tr>\n",
       "      <th>...</th>\n",
       "      <td>...</td>\n",
       "      <td>...</td>\n",
       "      <td>...</td>\n",
       "      <td>...</td>\n",
       "      <td>...</td>\n",
       "      <td>...</td>\n",
       "      <td>...</td>\n",
       "      <td>...</td>\n",
       "      <td>...</td>\n",
       "      <td>...</td>\n",
       "      <td>...</td>\n",
       "    </tr>\n",
       "    <tr>\n",
       "      <th>5127</th>\n",
       "      <td>5127</td>\n",
       "      <td>54</td>\n",
       "      <td>M</td>\n",
       "      <td>23</td>\n",
       "      <td>5.00</td>\n",
       "      <td>1.50</td>\n",
       "      <td>1.24</td>\n",
       "      <td>2.98</td>\n",
       "      <td>77.0</td>\n",
       "      <td>3.50</td>\n",
       "      <td>1</td>\n",
       "    </tr>\n",
       "    <tr>\n",
       "      <th>5128</th>\n",
       "      <td>5128</td>\n",
       "      <td>50</td>\n",
       "      <td>F</td>\n",
       "      <td>22</td>\n",
       "      <td>4.37</td>\n",
       "      <td>2.09</td>\n",
       "      <td>1.37</td>\n",
       "      <td>2.29</td>\n",
       "      <td>47.3</td>\n",
       "      <td>4.40</td>\n",
       "      <td>1</td>\n",
       "    </tr>\n",
       "    <tr>\n",
       "      <th>5129</th>\n",
       "      <td>5129</td>\n",
       "      <td>67</td>\n",
       "      <td>M</td>\n",
       "      <td>24</td>\n",
       "      <td>3.89</td>\n",
       "      <td>1.38</td>\n",
       "      <td>1.14</td>\n",
       "      <td>2.17</td>\n",
       "      <td>70.6</td>\n",
       "      <td>4.73</td>\n",
       "      <td>1</td>\n",
       "    </tr>\n",
       "    <tr>\n",
       "      <th>5130</th>\n",
       "      <td>5130</td>\n",
       "      <td>60</td>\n",
       "      <td>F</td>\n",
       "      <td>29</td>\n",
       "      <td>5.91</td>\n",
       "      <td>1.29</td>\n",
       "      <td>1.73</td>\n",
       "      <td>2.85</td>\n",
       "      <td>50.2</td>\n",
       "      <td>7.33</td>\n",
       "      <td>1</td>\n",
       "    </tr>\n",
       "    <tr>\n",
       "      <th>5131</th>\n",
       "      <td>5131</td>\n",
       "      <td>37</td>\n",
       "      <td>M</td>\n",
       "      <td>34</td>\n",
       "      <td>5.42</td>\n",
       "      <td>2.66</td>\n",
       "      <td>1.08</td>\n",
       "      <td>2.87</td>\n",
       "      <td>75.5</td>\n",
       "      <td>4.61</td>\n",
       "      <td>1</td>\n",
       "    </tr>\n",
       "  </tbody>\n",
       "</table>\n",
       "<p>5132 rows × 11 columns</p>\n",
       "</div>"
      ],
      "text/plain": [
       "      Unnamed: 0  Age Gender  BMI  Chol    TG   HDL   LDL    Cr   BUN  \\\n",
       "0              0   50      F   24  4.20  0.90  2.40  1.40  46.0  4.70   \n",
       "1              1   26      M   23  3.70  1.40  1.10  2.10  62.0  4.50   \n",
       "2              2   33      M   21  4.90  1.00  0.80  2.00  46.0  7.10   \n",
       "3              3   45      F   21  2.90  1.00  1.00  1.50  24.0  2.30   \n",
       "4              4   50      F   24  3.60  1.30  0.90  2.10  50.0  2.00   \n",
       "...          ...  ...    ...  ...   ...   ...   ...   ...   ...   ...   \n",
       "5127        5127   54      M   23  5.00  1.50  1.24  2.98  77.0  3.50   \n",
       "5128        5128   50      F   22  4.37  2.09  1.37  2.29  47.3  4.40   \n",
       "5129        5129   67      M   24  3.89  1.38  1.14  2.17  70.6  4.73   \n",
       "5130        5130   60      F   29  5.91  1.29  1.73  2.85  50.2  7.33   \n",
       "5131        5131   37      M   34  5.42  2.66  1.08  2.87  75.5  4.61   \n",
       "\n",
       "      Diagnosis  \n",
       "0             0  \n",
       "1             0  \n",
       "2             0  \n",
       "3             0  \n",
       "4             0  \n",
       "...         ...  \n",
       "5127          1  \n",
       "5128          1  \n",
       "5129          1  \n",
       "5130          1  \n",
       "5131          1  \n",
       "\n",
       "[5132 rows x 11 columns]"
      ]
     },
     "execution_count": 4,
     "metadata": {},
     "output_type": "execute_result"
    }
   ],
   "source": [
    "data"
   ]
  },
  {
   "cell_type": "code",
   "execution_count": 5,
   "id": "c4484360",
   "metadata": {},
   "outputs": [
    {
     "data": {
      "text/html": [
       "<div>\n",
       "<style scoped>\n",
       "    .dataframe tbody tr th:only-of-type {\n",
       "        vertical-align: middle;\n",
       "    }\n",
       "\n",
       "    .dataframe tbody tr th {\n",
       "        vertical-align: top;\n",
       "    }\n",
       "\n",
       "    .dataframe thead th {\n",
       "        text-align: right;\n",
       "    }\n",
       "</style>\n",
       "<table border=\"1\" class=\"dataframe\">\n",
       "  <thead>\n",
       "    <tr style=\"text-align: right;\">\n",
       "      <th></th>\n",
       "      <th>Unnamed: 0</th>\n",
       "      <th>Age</th>\n",
       "      <th>Gender</th>\n",
       "      <th>BMI</th>\n",
       "      <th>Chol</th>\n",
       "      <th>TG</th>\n",
       "      <th>HDL</th>\n",
       "      <th>LDL</th>\n",
       "      <th>Cr</th>\n",
       "      <th>BUN</th>\n",
       "      <th>Diagnosis</th>\n",
       "    </tr>\n",
       "  </thead>\n",
       "  <tbody>\n",
       "    <tr>\n",
       "      <th>0</th>\n",
       "      <td>0</td>\n",
       "      <td>50</td>\n",
       "      <td>F</td>\n",
       "      <td>24</td>\n",
       "      <td>4.2</td>\n",
       "      <td>0.9</td>\n",
       "      <td>2.4</td>\n",
       "      <td>1.4</td>\n",
       "      <td>46.0</td>\n",
       "      <td>4.7</td>\n",
       "      <td>0</td>\n",
       "    </tr>\n",
       "    <tr>\n",
       "      <th>1</th>\n",
       "      <td>1</td>\n",
       "      <td>26</td>\n",
       "      <td>M</td>\n",
       "      <td>23</td>\n",
       "      <td>3.7</td>\n",
       "      <td>1.4</td>\n",
       "      <td>1.1</td>\n",
       "      <td>2.1</td>\n",
       "      <td>62.0</td>\n",
       "      <td>4.5</td>\n",
       "      <td>0</td>\n",
       "    </tr>\n",
       "    <tr>\n",
       "      <th>2</th>\n",
       "      <td>2</td>\n",
       "      <td>33</td>\n",
       "      <td>M</td>\n",
       "      <td>21</td>\n",
       "      <td>4.9</td>\n",
       "      <td>1.0</td>\n",
       "      <td>0.8</td>\n",
       "      <td>2.0</td>\n",
       "      <td>46.0</td>\n",
       "      <td>7.1</td>\n",
       "      <td>0</td>\n",
       "    </tr>\n",
       "    <tr>\n",
       "      <th>3</th>\n",
       "      <td>3</td>\n",
       "      <td>45</td>\n",
       "      <td>F</td>\n",
       "      <td>21</td>\n",
       "      <td>2.9</td>\n",
       "      <td>1.0</td>\n",
       "      <td>1.0</td>\n",
       "      <td>1.5</td>\n",
       "      <td>24.0</td>\n",
       "      <td>2.3</td>\n",
       "      <td>0</td>\n",
       "    </tr>\n",
       "    <tr>\n",
       "      <th>4</th>\n",
       "      <td>4</td>\n",
       "      <td>50</td>\n",
       "      <td>F</td>\n",
       "      <td>24</td>\n",
       "      <td>3.6</td>\n",
       "      <td>1.3</td>\n",
       "      <td>0.9</td>\n",
       "      <td>2.1</td>\n",
       "      <td>50.0</td>\n",
       "      <td>2.0</td>\n",
       "      <td>0</td>\n",
       "    </tr>\n",
       "  </tbody>\n",
       "</table>\n",
       "</div>"
      ],
      "text/plain": [
       "   Unnamed: 0  Age Gender  BMI  Chol   TG  HDL  LDL    Cr  BUN  Diagnosis\n",
       "0           0   50      F   24   4.2  0.9  2.4  1.4  46.0  4.7          0\n",
       "1           1   26      M   23   3.7  1.4  1.1  2.1  62.0  4.5          0\n",
       "2           2   33      M   21   4.9  1.0  0.8  2.0  46.0  7.1          0\n",
       "3           3   45      F   21   2.9  1.0  1.0  1.5  24.0  2.3          0\n",
       "4           4   50      F   24   3.6  1.3  0.9  2.1  50.0  2.0          0"
      ]
     },
     "execution_count": 5,
     "metadata": {},
     "output_type": "execute_result"
    }
   ],
   "source": [
    "data.head()"
   ]
  },
  {
   "cell_type": "markdown",
   "id": "2474d73b",
   "metadata": {},
   "source": [
    "WE ARE OBSERVING THE SHAPE OF THE DATASET AND OBSERVE THAT THE DATASET HAS 5132 ROWS AND 11 COLUMNS"
   ]
  },
  {
   "cell_type": "code",
   "execution_count": 6,
   "id": "ea7c6dcb",
   "metadata": {},
   "outputs": [
    {
     "data": {
      "text/plain": [
       "(5132, 11)"
      ]
     },
     "execution_count": 6,
     "metadata": {},
     "output_type": "execute_result"
    }
   ],
   "source": [
    "data.shape"
   ]
  },
  {
   "cell_type": "markdown",
   "id": "cdda3c35",
   "metadata": {},
   "source": [
    "IN THE CELL BELOW WE OBSERVE THE DATATYPE OF EACH COLUMN IN THE DATASET AND THE NUMBER OF NON NULL ROWS IN EACH COLUMN"
   ]
  },
  {
   "cell_type": "code",
   "execution_count": 7,
   "id": "a3c2ff78",
   "metadata": {},
   "outputs": [
    {
     "name": "stdout",
     "output_type": "stream",
     "text": [
      "<class 'pandas.core.frame.DataFrame'>\n",
      "RangeIndex: 5132 entries, 0 to 5131\n",
      "Data columns (total 11 columns):\n",
      " #   Column      Non-Null Count  Dtype  \n",
      "---  ------      --------------  -----  \n",
      " 0   Unnamed: 0  5132 non-null   int64  \n",
      " 1   Age         5132 non-null   int64  \n",
      " 2   Gender      5132 non-null   object \n",
      " 3   BMI         5132 non-null   int64  \n",
      " 4   Chol        5132 non-null   float64\n",
      " 5   TG          5132 non-null   float64\n",
      " 6   HDL         5132 non-null   float64\n",
      " 7   LDL         5132 non-null   float64\n",
      " 8   Cr          5132 non-null   float64\n",
      " 9   BUN         5132 non-null   float64\n",
      " 10  Diagnosis   5132 non-null   int64  \n",
      "dtypes: float64(6), int64(4), object(1)\n",
      "memory usage: 441.2+ KB\n"
     ]
    }
   ],
   "source": [
    "data.info()"
   ]
  },
  {
   "cell_type": "markdown",
   "id": "6908e51f",
   "metadata": {},
   "source": [
    "WE ARE DROPPING THE UNNAMED:0 COLUNMN FROM THE PANDAS DATAFRAME AS IT IS IRRELEVANT TO OUR CODE AND CHANGING THE DATATYPE OF BMI FROM INT TO FLOAT AS IT IS MORE APPROPRIATE"
   ]
  },
  {
   "cell_type": "code",
   "execution_count": 8,
   "id": "a9cc7614",
   "metadata": {},
   "outputs": [],
   "source": [
    "data_new = data.drop(['Unnamed: 0'], axis=1)\n",
    "data_new['BMI'] = data_new['BMI'].astype(float)"
   ]
  },
  {
   "cell_type": "code",
   "execution_count": 9,
   "id": "cdee3c52",
   "metadata": {
    "scrolled": true
   },
   "outputs": [
    {
     "name": "stdout",
     "output_type": "stream",
     "text": [
      "<class 'pandas.core.frame.DataFrame'>\n",
      "RangeIndex: 5132 entries, 0 to 5131\n",
      "Data columns (total 10 columns):\n",
      " #   Column     Non-Null Count  Dtype  \n",
      "---  ------     --------------  -----  \n",
      " 0   Age        5132 non-null   int64  \n",
      " 1   Gender     5132 non-null   object \n",
      " 2   BMI        5132 non-null   float64\n",
      " 3   Chol       5132 non-null   float64\n",
      " 4   TG         5132 non-null   float64\n",
      " 5   HDL        5132 non-null   float64\n",
      " 6   LDL        5132 non-null   float64\n",
      " 7   Cr         5132 non-null   float64\n",
      " 8   BUN        5132 non-null   float64\n",
      " 9   Diagnosis  5132 non-null   int64  \n",
      "dtypes: float64(7), int64(2), object(1)\n",
      "memory usage: 401.1+ KB\n"
     ]
    }
   ],
   "source": [
    "data_new.info()"
   ]
  },
  {
   "cell_type": "markdown",
   "id": "93448fc7",
   "metadata": {},
   "source": [
    "WE ARE CALCULATING STATISTICAL FACTS LIKE THE MEAN , MEDIAN , STANDARS DEVIATION AND PERCENTILES FOR EACH APPLICABLE COLUMN IN THE DATAFRAME"
   ]
  },
  {
   "cell_type": "code",
   "execution_count": 10,
   "id": "2f353609",
   "metadata": {},
   "outputs": [
    {
     "data": {
      "text/plain": [
       "count    5132.000000\n",
       "mean       48.950312\n",
       "std        14.048794\n",
       "min        20.000000\n",
       "25%        36.000000\n",
       "50%        49.000000\n",
       "75%        59.000000\n",
       "max        93.000000\n",
       "Name: Age, dtype: float64"
      ]
     },
     "execution_count": 10,
     "metadata": {},
     "output_type": "execute_result"
    }
   ],
   "source": [
    "data_new.Age.describe()"
   ]
  },
  {
   "cell_type": "code",
   "execution_count": 11,
   "id": "b7887949",
   "metadata": {},
   "outputs": [
    {
     "data": {
      "text/plain": [
       "count    5132.000000\n",
       "mean       24.613406\n",
       "std         4.277205\n",
       "min        15.000000\n",
       "25%        22.000000\n",
       "50%        24.000000\n",
       "75%        27.000000\n",
       "max        47.000000\n",
       "Name: BMI, dtype: float64"
      ]
     },
     "execution_count": 11,
     "metadata": {},
     "output_type": "execute_result"
    }
   ],
   "source": [
    "data_new.BMI.describe()"
   ]
  },
  {
   "cell_type": "code",
   "execution_count": 12,
   "id": "fdf468b3",
   "metadata": {},
   "outputs": [
    {
     "data": {
      "text/plain": [
       "count    5132.000000\n",
       "mean        4.866882\n",
       "std         1.001052\n",
       "min         0.000000\n",
       "25%         4.190000\n",
       "50%         4.800000\n",
       "75%         5.460000\n",
       "max        11.650000\n",
       "Name: Chol, dtype: float64"
      ]
     },
     "execution_count": 12,
     "metadata": {},
     "output_type": "execute_result"
    }
   ],
   "source": [
    "data_new.Chol.describe()"
   ]
  },
  {
   "cell_type": "code",
   "execution_count": 13,
   "id": "7877549d",
   "metadata": {},
   "outputs": [
    {
     "data": {
      "text/plain": [
       "count    5132.000000\n",
       "mean        1.719328\n",
       "std         1.327057\n",
       "min         0.000000\n",
       "25%         0.910000\n",
       "50%         1.380000\n",
       "75%         2.100000\n",
       "max        32.640000\n",
       "Name: TG, dtype: float64"
      ]
     },
     "execution_count": 13,
     "metadata": {},
     "output_type": "execute_result"
    }
   ],
   "source": [
    "data_new.TG.describe()"
   ]
  },
  {
   "cell_type": "code",
   "execution_count": 14,
   "id": "71ec5fcb",
   "metadata": {},
   "outputs": [
    {
     "data": {
      "text/plain": [
       "count    5132.000000\n",
       "mean        1.593305\n",
       "std         1.038849\n",
       "min         0.000000\n",
       "25%         1.090000\n",
       "50%         1.300000\n",
       "75%         1.590000\n",
       "max         9.900000\n",
       "Name: HDL, dtype: float64"
      ]
     },
     "execution_count": 14,
     "metadata": {},
     "output_type": "execute_result"
    }
   ],
   "source": [
    "data_new.HDL.describe()"
   ]
  },
  {
   "cell_type": "code",
   "execution_count": 15,
   "id": "bbd3682c",
   "metadata": {},
   "outputs": [
    {
     "data": {
      "text/plain": [
       "count    5132.000000\n",
       "mean        2.914121\n",
       "std         0.945423\n",
       "min         0.300000\n",
       "25%         2.290000\n",
       "50%         2.790000\n",
       "75%         3.400000\n",
       "max         9.900000\n",
       "Name: LDL, dtype: float64"
      ]
     },
     "execution_count": 15,
     "metadata": {},
     "output_type": "execute_result"
    }
   ],
   "source": [
    "data_new.LDL.describe()"
   ]
  },
  {
   "cell_type": "code",
   "execution_count": 16,
   "id": "c4603e52",
   "metadata": {},
   "outputs": [
    {
     "data": {
      "text/plain": [
       "count    5132.000000\n",
       "mean       71.144800\n",
       "std        28.494394\n",
       "min         4.860753\n",
       "25%        58.000000\n",
       "50%        70.200000\n",
       "75%        81.600000\n",
       "max       800.000000\n",
       "Name: Cr, dtype: float64"
      ]
     },
     "execution_count": 16,
     "metadata": {},
     "output_type": "execute_result"
    }
   ],
   "source": [
    "data_new.Cr.describe()"
   ]
  },
  {
   "cell_type": "code",
   "execution_count": 17,
   "id": "f98b84c7",
   "metadata": {},
   "outputs": [
    {
     "data": {
      "text/plain": [
       "count    5132.000000\n",
       "mean        4.896969\n",
       "std         1.689206\n",
       "min         0.500000\n",
       "25%         3.900000\n",
       "50%         4.720000\n",
       "75%         5.600000\n",
       "max        38.900000\n",
       "Name: BUN, dtype: float64"
      ]
     },
     "execution_count": 17,
     "metadata": {},
     "output_type": "execute_result"
    }
   ],
   "source": [
    "data_new.BUN.describe()"
   ]
  },
  {
   "cell_type": "markdown",
   "id": "48b5a9b6",
   "metadata": {},
   "source": [
    "WE ARE CALCULATING THE MEMORY OCCUPIED BY THE OLD AND NEW DATAFRAME IN BYTES AND WE CALCULATE ITS DIFFERENCE"
   ]
  },
  {
   "cell_type": "code",
   "execution_count": 18,
   "id": "a9add765",
   "metadata": {},
   "outputs": [
    {
     "name": "stdout",
     "output_type": "stream",
     "text": [
      "Memory usage of old DataFrame: 708348\n",
      "Memory usage of new DataFrame: 667292\n",
      "Memory usage difference: 41056\n"
     ]
    }
   ],
   "source": [
    "\n",
    "memory_old = data.memory_usage(deep=True).sum()\n",
    "memory_new = data_new.memory_usage(deep=True).sum()\n",
    "\n",
    "memory_difference = memory_old - memory_new\n",
    "\n",
    "print(\"Memory usage of old DataFrame:\", memory_old)\n",
    "print(\"Memory usage of new DataFrame:\", memory_new)\n",
    "print(\"Memory usage difference:\", memory_difference)\n"
   ]
  },
  {
   "cell_type": "code",
   "execution_count": 19,
   "id": "752e448c",
   "metadata": {},
   "outputs": [],
   "source": [
    "\n",
    "from sklearn.preprocessing import LabelEncoder\n",
    "from sklearn.feature_selection import SelectKBest, chi2, f_classif, RFE\n",
    "from sklearn.model_selection import train_test_split\n"
   ]
  },
  {
   "cell_type": "code",
   "execution_count": 20,
   "id": "a8441035",
   "metadata": {},
   "outputs": [],
   "source": [
    "le = LabelEncoder()\n",
    "data_new[\"Gender\"] = le.fit_transform(data_new[\"Gender\"])\n"
   ]
  },
  {
   "cell_type": "code",
   "execution_count": 21,
   "id": "378ecf72",
   "metadata": {},
   "outputs": [
    {
     "data": {
      "image/png": "[encoded data removed]",
      "text/plain": [
       "<Figure size 1000x600 with 1 Axes>"
      ]
     },
     "metadata": {},
     "output_type": "display_data"
    }
   ],
   "source": [
    "X = data_new.drop(\"Diagnosis\", axis=1)\n",
    "y = data_new[\"Diagnosis\"]\n",
    "chi2_scores, _ = chi2(X, y)  \n",
    "chi2_results = pd.DataFrame({\"feature\": X.columns, \"chi2_score\": chi2_scores.flatten()})\n",
    "chi2_results = chi2_results.sort_values(by=\"chi2_score\", ascending=False)\n",
    "import matplotlib.pyplot as plt\n",
    "plt.figure(figsize=(10, 6))\n",
    "plt.bar(chi2_results[\"feature\"], chi2_results[\"chi2_score\"])\n",
    "plt.xlabel(\"Features\")\n",
    "plt.ylabel(\"Chi-Square Score\")\n",
    "plt.title(\"Chi-Square Scores by Feature (Descending)\")\n",
    "plt.xticks(rotation=45, ha=\"right\") \n",
    "\n",
    "plt.show()\n"
   ]
  },
  {
   "cell_type": "markdown",
   "id": "b59fcdd4",
   "metadata": {},
   "source": [
    "The x-axis represents the features in your data (e.g., Age, Gender, BMI, etc.).\n",
    "The y-axis represents the chi-square score for each feature. Higher scores indicate a stronger association between the feature and the target variable (diabetes diagnosis in this case).\n",
    "The features are arranged in descending order of chi-square score, so the features at the beginning likely have the strongest relationships with diabetes diagnosis.\n",
    "Features on the left side of the plot (with higher chi-square scores) are likely more informative for predicting diabetes. These could be good candidates for inclusion in your machine learning model.\n",
    "The plot can help you visually identify the \"elbow\" point where the chi-square scores start to level off or decrease rapidly. The number of features before this elbow could be a good choice for k in selectkbest"
   ]
  },
  {
   "cell_type": "code",
   "execution_count": 22,
   "id": "39477c2a",
   "metadata": {},
   "outputs": [
    {
     "data": {
      "image/png": "[encoded data removed]",
      "text/plain": [
       "<Figure size 1000x600 with 1 Axes>"
      ]
     },
     "metadata": {},
     "output_type": "display_data"
    }
   ],
   "source": [
    "\n",
    "import matplotlib.pyplot as plt\n",
    "X = data_new.drop(\"Diagnosis\", axis=1)\n",
    "y = data[\"Diagnosis\"]\n",
    "f_scores, _ = f_classif(X, y)\n",
    "f_results = pd.DataFrame({\"feature\": X.columns, \"f_score\": f_scores.flatten()})\n",
    "f_results = f_results.sort_values(by=\"f_score\", ascending=False)\n",
    "plt.figure(figsize=(10, 6))\n",
    "plt.bar(f_results[\"feature\"], f_results[\"f_score\"])\n",
    "plt.xlabel(\"Features\")\n",
    "plt.ylabel(\"F-Statistic Score\")\n",
    "plt.title(\"F-Statistic Scores by Feature (Descending)\")\n",
    "plt.xticks(rotation=45, ha=\"right\")  # Rotate feature names for readability\n",
    "plt.show()"
   ]
  },
  {
   "cell_type": "markdown",
   "id": "7ffefa37",
   "metadata": {},
   "source": [
    "The x-axis represents the features in your data (e.g., Age, Gender, BMI, etc.).\n",
    "The y-axis represents the F-statistic score for each feature. Higher scores indicate a stronger association between the feature and the target variable (diabetes diagnosis in this case).\n",
    "The features are arranged in descending order of F-statistic score, so the features at the beginning likely have the strongest relationships with diabetes diagnosis."
   ]
  },
  {
   "cell_type": "markdown",
   "id": "2b36dd1d",
   "metadata": {},
   "source": [
    "Since, in both the plots i.e, chi square and f-statistic the values corresponding to gender are the lowest we can infer that it has no statistically significant relation with diagnosis,hence we can drop it."
   ]
  },
  {
   "cell_type": "markdown",
   "id": "fa765acd",
   "metadata": {},
   "source": [
    "By comparing both the plots,we can consider the value of k=5 for selectkbest\n",
    "Since,we can drop gender column we dont need to use chi-square in selectkbest as it used for categorical variables, instead we use f-statistic in selectkbest"
   ]
  },
  {
   "cell_type": "code",
   "execution_count": 23,
   "id": "651dd699",
   "metadata": {},
   "outputs": [],
   "source": [
    "from sklearn.preprocessing import LabelEncoder\n",
    "from sklearn.feature_selection import SelectKBest, chi2, f_classif, RFE,SelectKBest\n",
    "from sklearn.model_selection import train_test_split\n",
    "from sklearn.metrics import accuracy_score, confusion_matrix\n",
    "\n",
    "\n",
    "\n"
   ]
  },
  {
   "cell_type": "code",
   "execution_count": 24,
   "id": "e1801370",
   "metadata": {},
   "outputs": [],
   "source": [
    "data_new=data_new.drop('Gender',axis=1)\n"
   ]
  },
  {
   "cell_type": "code",
   "execution_count": 25,
   "id": "eb6127cc",
   "metadata": {},
   "outputs": [
    {
     "data": {
      "text/html": [
       "<div>\n",
       "<style scoped>\n",
       "    .dataframe tbody tr th:only-of-type {\n",
       "        vertical-align: middle;\n",
       "    }\n",
       "\n",
       "    .dataframe tbody tr th {\n",
       "        vertical-align: top;\n",
       "    }\n",
       "\n",
       "    .dataframe thead th {\n",
       "        text-align: right;\n",
       "    }\n",
       "</style>\n",
       "<table border=\"1\" class=\"dataframe\">\n",
       "  <thead>\n",
       "    <tr style=\"text-align: right;\">\n",
       "      <th></th>\n",
       "      <th>Age</th>\n",
       "      <th>BMI</th>\n",
       "      <th>Chol</th>\n",
       "      <th>TG</th>\n",
       "      <th>HDL</th>\n",
       "      <th>LDL</th>\n",
       "      <th>Cr</th>\n",
       "      <th>BUN</th>\n",
       "      <th>Diagnosis</th>\n",
       "    </tr>\n",
       "  </thead>\n",
       "  <tbody>\n",
       "    <tr>\n",
       "      <th>0</th>\n",
       "      <td>50</td>\n",
       "      <td>24.0</td>\n",
       "      <td>4.2</td>\n",
       "      <td>0.9</td>\n",
       "      <td>2.4</td>\n",
       "      <td>1.4</td>\n",
       "      <td>46.0</td>\n",
       "      <td>4.7</td>\n",
       "      <td>0</td>\n",
       "    </tr>\n",
       "    <tr>\n",
       "      <th>1</th>\n",
       "      <td>26</td>\n",
       "      <td>23.0</td>\n",
       "      <td>3.7</td>\n",
       "      <td>1.4</td>\n",
       "      <td>1.1</td>\n",
       "      <td>2.1</td>\n",
       "      <td>62.0</td>\n",
       "      <td>4.5</td>\n",
       "      <td>0</td>\n",
       "    </tr>\n",
       "    <tr>\n",
       "      <th>2</th>\n",
       "      <td>33</td>\n",
       "      <td>21.0</td>\n",
       "      <td>4.9</td>\n",
       "      <td>1.0</td>\n",
       "      <td>0.8</td>\n",
       "      <td>2.0</td>\n",
       "      <td>46.0</td>\n",
       "      <td>7.1</td>\n",
       "      <td>0</td>\n",
       "    </tr>\n",
       "    <tr>\n",
       "      <th>3</th>\n",
       "      <td>45</td>\n",
       "      <td>21.0</td>\n",
       "      <td>2.9</td>\n",
       "      <td>1.0</td>\n",
       "      <td>1.0</td>\n",
       "      <td>1.5</td>\n",
       "      <td>24.0</td>\n",
       "      <td>2.3</td>\n",
       "      <td>0</td>\n",
       "    </tr>\n",
       "    <tr>\n",
       "      <th>4</th>\n",
       "      <td>50</td>\n",
       "      <td>24.0</td>\n",
       "      <td>3.6</td>\n",
       "      <td>1.3</td>\n",
       "      <td>0.9</td>\n",
       "      <td>2.1</td>\n",
       "      <td>50.0</td>\n",
       "      <td>2.0</td>\n",
       "      <td>0</td>\n",
       "    </tr>\n",
       "  </tbody>\n",
       "</table>\n",
       "</div>"
      ],
      "text/plain": [
       "   Age   BMI  Chol   TG  HDL  LDL    Cr  BUN  Diagnosis\n",
       "0   50  24.0   4.2  0.9  2.4  1.4  46.0  4.7          0\n",
       "1   26  23.0   3.7  1.4  1.1  2.1  62.0  4.5          0\n",
       "2   33  21.0   4.9  1.0  0.8  2.0  46.0  7.1          0\n",
       "3   45  21.0   2.9  1.0  1.0  1.5  24.0  2.3          0\n",
       "4   50  24.0   3.6  1.3  0.9  2.1  50.0  2.0          0"
      ]
     },
     "execution_count": 25,
     "metadata": {},
     "output_type": "execute_result"
    }
   ],
   "source": [
    "data_new.head()"
   ]
  },
  {
   "cell_type": "code",
   "execution_count": 26,
   "id": "12304d13",
   "metadata": {},
   "outputs": [],
   "source": [
    "y=data_new[\"Diagnosis\"]\n",
    "X=data_new.drop(['Diagnosis'],axis=1)"
   ]
  },
  {
   "cell_type": "code",
   "execution_count": 27,
   "id": "dfd08af6",
   "metadata": {},
   "outputs": [],
   "source": [
    "X_f = SelectKBest(f_classif, k=5).fit_transform(X, y)\n",
    "\n",
    "\n",
    "selector = SelectKBest(f_classif, k=5).fit(X, y)\n",
    "\n",
    "\n",
    "if hasattr(selector, 'support_'): \n",
    "    support = selector.support_\n",
    "else:\n",
    "    support = selector.get_support()  \n",
    "\n",
    "selected_features = X.columns[support]  \n",
    "\n",
    "\n",
    "columns_to_filter = [col for col in X.columns if col not in selected_features]\n",
    "\n"
   ]
  },
  {
   "cell_type": "markdown",
   "id": "719a14c0",
   "metadata": {},
   "source": [
    "We are filtering out the columns that are not required using F-statistic in SelectKBest since we have eliminated the gender column and thus are only left with numerical columns and no categorical columns and chi-square works onn only categoricl columns whereas f-statistic works on bothe numeric and categorical columns"
   ]
  },
  {
   "cell_type": "code",
   "execution_count": 28,
   "id": "237cd728",
   "metadata": {},
   "outputs": [
    {
     "data": {
      "text/plain": [
       "['Chol', 'Cr', 'BUN']"
      ]
     },
     "execution_count": 28,
     "metadata": {},
     "output_type": "execute_result"
    }
   ],
   "source": [
    "columns_to_filter"
   ]
  },
  {
   "cell_type": "markdown",
   "id": "140cea74",
   "metadata": {},
   "source": [
    "columns-to_filter list provides the columns that can be filtered out of the dataset"
   ]
  },
  {
   "cell_type": "code",
   "execution_count": 29,
   "id": "40e0c236",
   "metadata": {},
   "outputs": [],
   "source": [
    "data_new_kbest=data_new.drop(['Chol','Cr','BUN'],axis"
   ]
  },
  {
   "cell_type": "code",
   "execution_count": 30,
   "id": "6f5836ec",
   "metadata": {},
   "outputs": [
    {
     "data": {
      "text/html": [
       "<div>\n",
       "<style scoped>\n",
       "    .dataframe tbody tr th:only-of-type {\n",
       "        vertical-align: middle;\n",
       "    }\n",
       "\n",
       "    .dataframe tbody tr th {\n",
       "        vertical-align: top;\n",
       "    }\n",
       "\n",
       "    .dataframe thead th {\n",
       "        text-align: right;\n",
       "    }\n",
       "</style>\n",
       "<table border=\"1\" class=\"dataframe\">\n",
       "  <thead>\n",
       "    <tr style=\"text-align: right;\">\n",
       "      <th></th>\n",
       "      <th>Age</th>\n",
       "      <th>BMI</th>\n",
       "      <th>TG</th>\n",
       "      <th>HDL</th>\n",
       "      <th>LDL</th>\n",
       "      <th>Diagnosis</th>\n",
       "    </tr>\n",
       "  </thead>\n",
       "  <tbody>\n",
       "    <tr>\n",
       "      <th>0</th>\n",
       "      <td>50</td>\n",
       "      <td>24.0</td>\n",
       "      <td>0.90</td>\n",
       "      <td>2.40</td>\n",
       "      <td>1.40</td>\n",
       "      <td>0</td>\n",
       "    </tr>\n",
       "    <tr>\n",
       "      <th>1</th>\n",
       "      <td>26</td>\n",
       "      <td>23.0</td>\n",
       "      <td>1.40</td>\n",
       "      <td>1.10</td>\n",
       "      <td>2.10</td>\n",
       "      <td>0</td>\n",
       "    </tr>\n",
       "    <tr>\n",
       "      <th>2</th>\n",
       "      <td>33</td>\n",
       "      <td>21.0</td>\n",
       "      <td>1.00</td>\n",
       "      <td>0.80</td>\n",
       "      <td>2.00</td>\n",
       "      <td>0</td>\n",
       "    </tr>\n",
       "    <tr>\n",
       "      <th>3</th>\n",
       "      <td>45</td>\n",
       "      <td>21.0</td>\n",
       "      <td>1.00</td>\n",
       "      <td>1.00</td>\n",
       "      <td>1.50</td>\n",
       "      <td>0</td>\n",
       "    </tr>\n",
       "    <tr>\n",
       "      <th>4</th>\n",
       "      <td>50</td>\n",
       "      <td>24.0</td>\n",
       "      <td>1.30</td>\n",
       "      <td>0.90</td>\n",
       "      <td>2.10</td>\n",
       "      <td>0</td>\n",
       "    </tr>\n",
       "    <tr>\n",
       "      <th>...</th>\n",
       "      <td>...</td>\n",
       "      <td>...</td>\n",
       "      <td>...</td>\n",
       "      <td>...</td>\n",
       "      <td>...</td>\n",
       "      <td>...</td>\n",
       "    </tr>\n",
       "    <tr>\n",
       "      <th>5127</th>\n",
       "      <td>54</td>\n",
       "      <td>23.0</td>\n",
       "      <td>1.50</td>\n",
       "      <td>1.24</td>\n",
       "      <td>2.98</td>\n",
       "      <td>1</td>\n",
       "    </tr>\n",
       "    <tr>\n",
       "      <th>5128</th>\n",
       "      <td>50</td>\n",
       "      <td>22.0</td>\n",
       "      <td>2.09</td>\n",
       "      <td>1.37</td>\n",
       "      <td>2.29</td>\n",
       "      <td>1</td>\n",
       "    </tr>\n",
       "    <tr>\n",
       "      <th>5129</th>\n",
       "      <td>67</td>\n",
       "      <td>24.0</td>\n",
       "      <td>1.38</td>\n",
       "      <td>1.14</td>\n",
       "      <td>2.17</td>\n",
       "      <td>1</td>\n",
       "    </tr>\n",
       "    <tr>\n",
       "      <th>5130</th>\n",
       "      <td>60</td>\n",
       "      <td>29.0</td>\n",
       "      <td>1.29</td>\n",
       "      <td>1.73</td>\n",
       "      <td>2.85</td>\n",
       "      <td>1</td>\n",
       "    </tr>\n",
       "    <tr>\n",
       "      <th>5131</th>\n",
       "      <td>37</td>\n",
       "      <td>34.0</td>\n",
       "      <td>2.66</td>\n",
       "      <td>1.08</td>\n",
       "      <td>2.87</td>\n",
       "      <td>1</td>\n",
       "    </tr>\n",
       "  </tbody>\n",
       "</table>\n",
       "<p>5132 rows × 6 columns</p>\n",
       "</div>"
      ],
      "text/plain": [
       "      Age   BMI    TG   HDL   LDL  Diagnosis\n",
       "0      50  24.0  0.90  2.40  1.40          0\n",
       "1      26  23.0  1.40  1.10  2.10          0\n",
       "2      33  21.0  1.00  0.80  2.00          0\n",
       "3      45  21.0  1.00  1.00  1.50          0\n",
       "4      50  24.0  1.30  0.90  2.10          0\n",
       "...   ...   ...   ...   ...   ...        ...\n",
       "5127   54  23.0  1.50  1.24  2.98          1\n",
       "5128   50  22.0  2.09  1.37  2.29          1\n",
       "5129   67  24.0  1.38  1.14  2.17          1\n",
       "5130   60  29.0  1.29  1.73  2.85          1\n",
       "5131   37  34.0  2.66  1.08  2.87          1\n",
       "\n",
       "[5132 rows x 6 columns]"
      ]
     },
     "execution_count": 30,
     "metadata": {},
     "output_type": "execute_result"
    }
   ],
   "source": [
    "data_new_kbest"
   ]
  },
  {
   "cell_type": "markdown",
   "id": "34a789c1",
   "metadata": {},
   "source": [
    "Above, we have produced the data set with the selected features that can be used to build the model "
   ]
  },
  {
   "cell_type": "code",
   "execution_count": 40,
   "id": "67e27ab3",
   "metadata": {},
   "outputs": [],
   "source": [
    "y_f= data_new_kbest['Diagnosis']\n",
    "X_f=data_new_kbest.drop(['Diagnosis'],axis=1)\n",
    "X_train, X_test, y_train, y_test = train_test_split(X_f, y_f, test_size=0.2, random_state=42)\n",
    "from sklearn.model_selection import GridSearchCV, RandomizedSearchCV\n",
    "from sklearn.ensemble import RandomForestClassifier\n",
    "param_grid = {\n",
    "    'n_estimators': [100, 200, 500],\n",
    "    'max_depth': [3, 5, 8],\n",
    "    'min_samples_split': [2, 5, 10],\n",
    "    'min_samples_leaf': [1, 2, 4],\n",
    "    'max_features': [5, 'sqrt', 'log2']\n",
    "}\n",
    "search = RandomizedSearchCV(RandomForestClassifier(), param_grid, cv=5) \n",
    "search.fit(X_train, y_train)\n",
    "best_model = search.best_estimator_\n",
    "best_score = search.best_score_\n",
    "\n",
    "\n"
   ]
  },
  {
   "cell_type": "code",
   "execution_count": 41,
   "id": "476a4ae1",
   "metadata": {},
   "outputs": [
    {
     "name": "stdout",
     "output_type": "stream",
     "text": [
      "Best Model: RandomForestClassifier(max_depth=8, max_features='log2', min_samples_leaf=2,\n",
      "                       n_estimators=200)\n",
      "Best Score: 0.8285018270401949\n"
     ]
    }
   ],
   "source": [
    "\n",
    "print(\"Best Model:\", search.best_estimator_)\n",
    "print(\"Best Score:\", search.best_score_)\n"
   ]
  },
  {
   "cell_type": "markdown",
   "id": "8e6b9595",
   "metadata": {},
   "source": [
    "Applying a random forest classifier along with hyperparameter tuning on the dataset obtained by using f-statistic in selectkbest, we also bobserve the model accuracy "
   ]
  },
  {
   "cell_type": "code",
   "execution_count": 32,
   "id": "f63ffb4d",
   "metadata": {
    "scrolled": true
   },
   "outputs": [
    {
     "name": "stdout",
     "output_type": "stream",
     "text": [
      "Number of selected features: 8\n",
      "Selected Features: Index(['Age', 'BMI', 'Chol', 'TG', 'HDL', 'LDL', 'Cr', 'BUN'], dtype='object')\n"
     ]
    }
   ],
   "source": [
    "from sklearn.feature_selection import RFECV\n",
    "X_rfecv = data_new.drop('Diagnosis', axis=1)\n",
    "y_rfecv = data_new['Diagnosis']\n",
    "X_train, X_test, y_train, y_test = train_test_split(X_rfecv, y_rfecv, test_size=0.2, random_state=42)\n",
    "rfecv = RFECV(estimator=RandomForestClassifier(n_estimators=1000), cv=5) \n",
    "rfecv.fit(X_train, y_train)\n",
    "print(\"Number of selected features:\", rfecv.n_features_)\n",
    "selected_features = X.columns[rfecv.support_]\n",
    "print(\"Selected Features:\", selected_features)\n",
    "\n",
    "\n"
   ]
  },
  {
   "cell_type": "markdown",
   "id": "e9ef9701",
   "metadata": {},
   "source": [
    "Applying Recursive Feature Elimination with Cross Validation to filter out features"
   ]
  },
  {
   "cell_type": "code",
   "execution_count": 33,
   "id": "22dbb42e",
   "metadata": {},
   "outputs": [],
   "source": [
    "data_new_rfecv=data_new\n"
   ]
  },
  {
   "cell_type": "code",
   "execution_count": 42,
   "id": "d96d1966",
   "metadata": {},
   "outputs": [
    {
     "data": {
      "text/html": [
       "<div>\n",
       "<style scoped>\n",
       "    .dataframe tbody tr th:only-of-type {\n",
       "        vertical-align: middle;\n",
       "    }\n",
       "\n",
       "    .dataframe tbody tr th {\n",
       "        vertical-align: top;\n",
       "    }\n",
       "\n",
       "    .dataframe thead th {\n",
       "        text-align: right;\n",
       "    }\n",
       "</style>\n",
       "<table border=\"1\" class=\"dataframe\">\n",
       "  <thead>\n",
       "    <tr style=\"text-align: right;\">\n",
       "      <th></th>\n",
       "      <th>Age</th>\n",
       "      <th>BMI</th>\n",
       "      <th>Chol</th>\n",
       "      <th>TG</th>\n",
       "      <th>HDL</th>\n",
       "      <th>LDL</th>\n",
       "      <th>Cr</th>\n",
       "      <th>BUN</th>\n",
       "      <th>Diagnosis</th>\n",
       "    </tr>\n",
       "  </thead>\n",
       "  <tbody>\n",
       "    <tr>\n",
       "      <th>0</th>\n",
       "      <td>50</td>\n",
       "      <td>24.0</td>\n",
       "      <td>4.20</td>\n",
       "      <td>0.90</td>\n",
       "      <td>2.40</td>\n",
       "      <td>1.40</td>\n",
       "      <td>46.0</td>\n",
       "      <td>4.70</td>\n",
       "      <td>0</td>\n",
       "    </tr>\n",
       "    <tr>\n",
       "      <th>1</th>\n",
       "      <td>26</td>\n",
       "      <td>23.0</td>\n",
       "      <td>3.70</td>\n",
       "      <td>1.40</td>\n",
       "      <td>1.10</td>\n",
       "      <td>2.10</td>\n",
       "      <td>62.0</td>\n",
       "      <td>4.50</td>\n",
       "      <td>0</td>\n",
       "    </tr>\n",
       "    <tr>\n",
       "      <th>2</th>\n",
       "      <td>33</td>\n",
       "      <td>21.0</td>\n",
       "      <td>4.90</td>\n",
       "      <td>1.00</td>\n",
       "      <td>0.80</td>\n",
       "      <td>2.00</td>\n",
       "      <td>46.0</td>\n",
       "      <td>7.10</td>\n",
       "      <td>0</td>\n",
       "    </tr>\n",
       "    <tr>\n",
       "      <th>3</th>\n",
       "      <td>45</td>\n",
       "      <td>21.0</td>\n",
       "      <td>2.90</td>\n",
       "      <td>1.00</td>\n",
       "      <td>1.00</td>\n",
       "      <td>1.50</td>\n",
       "      <td>24.0</td>\n",
       "      <td>2.30</td>\n",
       "      <td>0</td>\n",
       "    </tr>\n",
       "    <tr>\n",
       "      <th>4</th>\n",
       "      <td>50</td>\n",
       "      <td>24.0</td>\n",
       "      <td>3.60</td>\n",
       "      <td>1.30</td>\n",
       "      <td>0.90</td>\n",
       "      <td>2.10</td>\n",
       "      <td>50.0</td>\n",
       "      <td>2.00</td>\n",
       "      <td>0</td>\n",
       "    </tr>\n",
       "    <tr>\n",
       "      <th>...</th>\n",
       "      <td>...</td>\n",
       "      <td>...</td>\n",
       "      <td>...</td>\n",
       "      <td>...</td>\n",
       "      <td>...</td>\n",
       "      <td>...</td>\n",
       "      <td>...</td>\n",
       "      <td>...</td>\n",
       "      <td>...</td>\n",
       "    </tr>\n",
       "    <tr>\n",
       "      <th>5127</th>\n",
       "      <td>54</td>\n",
       "      <td>23.0</td>\n",
       "      <td>5.00</td>\n",
       "      <td>1.50</td>\n",
       "      <td>1.24</td>\n",
       "      <td>2.98</td>\n",
       "      <td>77.0</td>\n",
       "      <td>3.50</td>\n",
       "      <td>1</td>\n",
       "    </tr>\n",
       "    <tr>\n",
       "      <th>5128</th>\n",
       "      <td>50</td>\n",
       "      <td>22.0</td>\n",
       "      <td>4.37</td>\n",
       "      <td>2.09</td>\n",
       "      <td>1.37</td>\n",
       "      <td>2.29</td>\n",
       "      <td>47.3</td>\n",
       "      <td>4.40</td>\n",
       "      <td>1</td>\n",
       "    </tr>\n",
       "    <tr>\n",
       "      <th>5129</th>\n",
       "      <td>67</td>\n",
       "      <td>24.0</td>\n",
       "      <td>3.89</td>\n",
       "      <td>1.38</td>\n",
       "      <td>1.14</td>\n",
       "      <td>2.17</td>\n",
       "      <td>70.6</td>\n",
       "      <td>4.73</td>\n",
       "      <td>1</td>\n",
       "    </tr>\n",
       "    <tr>\n",
       "      <th>5130</th>\n",
       "      <td>60</td>\n",
       "      <td>29.0</td>\n",
       "      <td>5.91</td>\n",
       "      <td>1.29</td>\n",
       "      <td>1.73</td>\n",
       "      <td>2.85</td>\n",
       "      <td>50.2</td>\n",
       "      <td>7.33</td>\n",
       "      <td>1</td>\n",
       "    </tr>\n",
       "    <tr>\n",
       "      <th>5131</th>\n",
       "      <td>37</td>\n",
       "      <td>34.0</td>\n",
       "      <td>5.42</td>\n",
       "      <td>2.66</td>\n",
       "      <td>1.08</td>\n",
       "      <td>2.87</td>\n",
       "      <td>75.5</td>\n",
       "      <td>4.61</td>\n",
       "      <td>1</td>\n",
       "    </tr>\n",
       "  </tbody>\n",
       "</table>\n",
       "<p>5132 rows × 9 columns</p>\n",
       "</div>"
      ],
      "text/plain": [
       "      Age   BMI  Chol    TG   HDL   LDL    Cr   BUN  Diagnosis\n",
       "0      50  24.0  4.20  0.90  2.40  1.40  46.0  4.70          0\n",
       "1      26  23.0  3.70  1.40  1.10  2.10  62.0  4.50          0\n",
       "2      33  21.0  4.90  1.00  0.80  2.00  46.0  7.10          0\n",
       "3      45  21.0  2.90  1.00  1.00  1.50  24.0  2.30          0\n",
       "4      50  24.0  3.60  1.30  0.90  2.10  50.0  2.00          0\n",
       "...   ...   ...   ...   ...   ...   ...   ...   ...        ...\n",
       "5127   54  23.0  5.00  1.50  1.24  2.98  77.0  3.50          1\n",
       "5128   50  22.0  4.37  2.09  1.37  2.29  47.3  4.40          1\n",
       "5129   67  24.0  3.89  1.38  1.14  2.17  70.6  4.73          1\n",
       "5130   60  29.0  5.91  1.29  1.73  2.85  50.2  7.33          1\n",
       "5131   37  34.0  5.42  2.66  1.08  2.87  75.5  4.61          1\n",
       "\n",
       "[5132 rows x 9 columns]"
      ]
     },
     "execution_count": 42,
     "metadata": {},
     "output_type": "execute_result"
    }
   ],
   "source": [
    "data_new_rfecv"
   ]
  },
  {
   "cell_type": "markdown",
   "id": "df381a5f",
   "metadata": {},
   "source": [
    "New dataset generated after using RFECV"
   ]
  },
  {
   "cell_type": "code",
   "execution_count": 43,
   "id": "084425a3",
   "metadata": {},
   "outputs": [],
   "source": [
    "y_rfecv= data_new_rfecv['Diagnosis']\n",
    "X_rfecv=data_new_rfecv.drop(['Diagnosis'],axis=1)\n",
    "X_train, X_test, y_train, y_test = train_test_split(X_rfecv, y_rfecv, test_size=0.2, random_state=42)\n",
    "from sklearn.model_selection import GridSearchCV, RandomizedSearchCV\n",
    "from sklearn.ensemble import RandomForestClassifier\n",
    "param_grid = {\n",
    "    'n_estimators': [100, 200, 500],\n",
    "    'max_depth': [3, 5, 8],\n",
    "    'min_samples_split': [2, 5, 10],\n",
    "    'min_samples_leaf': [1, 2, 4],\n",
    "    'max_features': [5, 'sqrt', 'log2']\n",
    "}\n",
    "search = RandomizedSearchCV(RandomForestClassifier(), param_grid, cv=5) \n",
    "search.fit(X_train, y_train)\n",
    "best_model = search.best_estimator_\n",
    "best_score = search.best_score_\n",
    "\n",
    "\n"
   ]
  },
  {
   "cell_type": "code",
   "execution_count": 44,
   "id": "8ce4d337",
   "metadata": {},
   "outputs": [
    {
     "name": "stdout",
     "output_type": "stream",
     "text": [
      "Best Model: RandomForestClassifier(max_depth=5, max_features='log2', n_estimators=200)\n",
      "Best Score: 0.8294762484774665\n"
     ]
    }
   ],
   "source": [
    "print(\"Best Model:\", search.best_estimator_)\n",
    "print(\"Best Score:\", search.best_score_)\n"
   ]
  },
  {
   "cell_type": "markdown",
   "id": "a52ed238",
   "metadata": {},
   "source": [
    "Applying a random forest classifier along with hyperparameter tuning on the dataset obtained by using RFECV, we also observe the model accuracy "
   ]
  },
  {
   "cell_type": "markdown",
   "id": "59349ad6",
   "metadata": {},
   "source": [
    "Thus, we are able to compare the accuracy of two rfc models with hyperparameter tuning trained on datasets developed by applying two different feature selection methods"
   ]
  },
  {
   "cell_type": "code",
   "execution_count": 36,
   "id": "82916004",
   "metadata": {},
   "outputs": [],
   "source": []
  },
  {
   "cell_type": "code",
   "execution_count": null,
   "id": "acb0a472",
   "metadata": {},
   "outputs": [],
   "source": []
  }
 ],
 "metadata": {
  "kernelspec": {
   "display_name": "Python 3 (ipykernel)",
   "language": "python",
   "name": "python3"
  },
  "language_info": {
   "codemirror_mode": {
    "name": "ipython",
    "version": 3
   },
   "file_extension": ".py",
   "mimetype": "text/x-python",
   "name": "python",
   "nbconvert_exporter": "python",
   "pygments_lexer": "ipython3",
   "version": "3.11.5"
  }
 },
 "nbformat": 4,
 "nbformat_minor": 5
}
