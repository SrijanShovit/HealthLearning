{
 "cells": [
  {
   "cell_type": "code",
   "execution_count": 2,
   "id": "1c72284d-9f26-46dc-9f82-6d8d4e1d70a4",
   "metadata": {},
   "outputs": [],
   "source": [
    "import numpy as np # linear algebra\n",
    "import pandas as pd\n",
    "import seaborn as sns\n",
    "from imblearn.over_sampling import SMOTE\n",
    "from sklearn.model_selection import train_test_split\n",
    "from sklearn.preprocessing import LabelEncoder\n",
    "import warnings"
   ]
  },
  {
   "cell_type": "code",
   "execution_count": 3,
   "id": "580a1a19-6d2b-4ca5-b953-df5e375b40cd",
   "metadata": {},
   "outputs": [
    {
     "data": {
      "text/html": [
       "<div>\n",
       "<style scoped>\n",
       "    .dataframe tbody tr th:only-of-type {\n",
       "        vertical-align: middle;\n",
       "    }\n",
       "\n",
       "    .dataframe tbody tr th {\n",
       "        vertical-align: top;\n",
       "    }\n",
       "\n",
       "    .dataframe thead th {\n",
       "        text-align: right;\n",
       "    }\n",
       "</style>\n",
       "<table border=\"1\" class=\"dataframe\">\n",
       "  <thead>\n",
       "    <tr style=\"text-align: right;\">\n",
       "      <th></th>\n",
       "      <th>id</th>\n",
       "      <th>gender</th>\n",
       "      <th>age</th>\n",
       "      <th>hypertension</th>\n",
       "      <th>heart_disease</th>\n",
       "      <th>ever_married</th>\n",
       "      <th>work_type</th>\n",
       "      <th>Residence_type</th>\n",
       "      <th>avg_glucose_level</th>\n",
       "      <th>bmi</th>\n",
       "      <th>smoking_status</th>\n",
       "      <th>stroke</th>\n",
       "    </tr>\n",
       "  </thead>\n",
       "  <tbody>\n",
       "    <tr>\n",
       "      <th>0</th>\n",
       "      <td>9046</td>\n",
       "      <td>Male</td>\n",
       "      <td>67.0</td>\n",
       "      <td>0</td>\n",
       "      <td>1</td>\n",
       "      <td>Yes</td>\n",
       "      <td>Private</td>\n",
       "      <td>Urban</td>\n",
       "      <td>228.69</td>\n",
       "      <td>36.6</td>\n",
       "      <td>formerly smoked</td>\n",
       "      <td>1</td>\n",
       "    </tr>\n",
       "    <tr>\n",
       "      <th>1</th>\n",
       "      <td>51676</td>\n",
       "      <td>Female</td>\n",
       "      <td>61.0</td>\n",
       "      <td>0</td>\n",
       "      <td>0</td>\n",
       "      <td>Yes</td>\n",
       "      <td>Self-employed</td>\n",
       "      <td>Rural</td>\n",
       "      <td>202.21</td>\n",
       "      <td>NaN</td>\n",
       "      <td>never smoked</td>\n",
       "      <td>1</td>\n",
       "    </tr>\n",
       "    <tr>\n",
       "      <th>2</th>\n",
       "      <td>31112</td>\n",
       "      <td>Male</td>\n",
       "      <td>80.0</td>\n",
       "      <td>0</td>\n",
       "      <td>1</td>\n",
       "      <td>Yes</td>\n",
       "      <td>Private</td>\n",
       "      <td>Rural</td>\n",
       "      <td>105.92</td>\n",
       "      <td>32.5</td>\n",
       "      <td>never smoked</td>\n",
       "      <td>1</td>\n",
       "    </tr>\n",
       "  </tbody>\n",
       "</table>\n",
       "</div>"
      ],
      "text/plain": [
       "      id  gender   age  hypertension  heart_disease ever_married  \\\n",
       "0   9046    Male  67.0             0              1          Yes   \n",
       "1  51676  Female  61.0             0              0          Yes   \n",
       "2  31112    Male  80.0             0              1          Yes   \n",
       "\n",
       "       work_type Residence_type  avg_glucose_level   bmi   smoking_status  \\\n",
       "0        Private          Urban             228.69  36.6  formerly smoked   \n",
       "1  Self-employed          Rural             202.21   NaN     never smoked   \n",
       "2        Private          Rural             105.92  32.5     never smoked   \n",
       "\n",
       "   stroke  \n",
       "0       1  \n",
       "1       1  \n",
       "2       1  "
      ]
     },
     "execution_count": 3,
     "metadata": {},
     "output_type": "execute_result"
    }
   ],
   "source": [
    "df = pd.read_csv('healthcare-dataset-stroke-data.csv')\n",
    "df.head(3)"
   ]
  },
  {
   "cell_type": "code",
   "execution_count": 4,
   "id": "161d9eeb-9f1e-4376-99da-8cf4aa63a7ce",
   "metadata": {},
   "outputs": [
    {
     "name": "stdout",
     "output_type": "stream",
     "text": [
      "id                     int64\n",
      "gender                object\n",
      "age                  float64\n",
      "hypertension           int64\n",
      "heart_disease          int64\n",
      "ever_married          object\n",
      "work_type             object\n",
      "Residence_type        object\n",
      "avg_glucose_level    float64\n",
      "bmi                  float64\n",
      "smoking_status        object\n",
      "stroke                 int64\n",
      "dtype: object\n"
     ]
    }
   ],
   "source": [
    "print(df.dtypes)"
   ]
  },
  {
   "cell_type": "markdown",
   "id": "55be3341-ae63-4dd6-bece-c11745cf0ee8",
   "metadata": {},
   "source": [
    "# Calculate the initial memory usage"
   ]
  },
  {
   "cell_type": "code",
   "execution_count": 43,
   "id": "7c7631c0-7277-483c-b17b-c05aed1075fd",
   "metadata": {
    "scrolled": true
   },
   "outputs": [
    {
     "name": "stdout",
     "output_type": "stream",
     "text": [
      "Initial memory usage: 206230\n"
     ]
    }
   ],
   "source": [
    "initial_memory = df.memory_usage(deep=True).sum()\n",
    "print(\"Initial memory usage:\", initial_memory)"
   ]
  },
  {
   "cell_type": "code",
   "execution_count": 6,
   "id": "952832dd-4e2d-45b9-85af-a2262e1b8f4d",
   "metadata": {},
   "outputs": [],
   "source": [
    "categorical_columns = ['gender', 'ever_married', 'work_type', 'Residence_type', 'smoking_status']\n",
    "df[categorical_columns] = df[categorical_columns].astype('category')\n"
   ]
  },
  {
   "cell_type": "code",
   "execution_count": 7,
   "id": "b572d83a-185d-4b2c-91b5-0112f17afa23",
   "metadata": {},
   "outputs": [],
   "source": [
    "boolean_columns = ['hypertension', 'heart_disease', 'stroke']\n",
    "df[boolean_columns] = df[boolean_columns].astype('bool')\n"
   ]
  },
  {
   "cell_type": "markdown",
   "id": "11614ab4-79a0-4da2-be50-46690b042cc6",
   "metadata": {},
   "source": [
    "# Calculate the memory usage differences"
   ]
  },
  {
   "cell_type": "code",
   "execution_count": 8,
   "id": "6390ce5b-9f65-490f-9374-a62d709786db",
   "metadata": {},
   "outputs": [
    {
     "name": "stdout",
     "output_type": "stream",
     "text": [
      "Final memory usage: 206230\n",
      "Memory saved: 1695623\n"
     ]
    }
   ],
   "source": [
    "# Calculate the memory usage differences\n",
    "final_memory = df.memory_usage(deep=True).sum()\n",
    "print(\"Final memory usage:\", final_memory)\n",
    "print(\"Memory saved:\", initial_memory - final_memory)\n"
   ]
  },
  {
   "cell_type": "markdown",
   "id": "21809a5c-ff09-4879-8ff0-4c1996f47953",
   "metadata": {},
   "source": [
    "# Explore statistical facts"
   ]
  },
  {
   "cell_type": "code",
   "execution_count": 9,
   "id": "c026808c-f60e-49ce-8a29-d907d60bed49",
   "metadata": {},
   "outputs": [
    {
     "name": "stdout",
     "output_type": "stream",
     "text": [
      "                 id          age  avg_glucose_level          bmi\n",
      "count   5110.000000  5110.000000        5110.000000  4909.000000\n",
      "mean   36517.829354    43.226614         106.147677    28.893237\n",
      "std    21161.721625    22.612647          45.283560     7.854067\n",
      "min       67.000000     0.080000          55.120000    10.300000\n",
      "25%    17741.250000    25.000000          77.245000    23.500000\n",
      "50%    36932.000000    45.000000          91.885000    28.100000\n",
      "75%    54682.000000    61.000000         114.090000    33.100000\n",
      "max    72940.000000    82.000000         271.740000    97.600000\n"
     ]
    }
   ],
   "source": [
    "# Explore statistical facts\n",
    "print(df.describe())\n"
   ]
  },
  {
   "cell_type": "markdown",
   "id": "04d769cb-81c7-47c8-a5c1-21faf3b2f3c7",
   "metadata": {},
   "source": [
    "### percentile "
   ]
  },
  {
   "cell_type": "code",
   "execution_count": 47,
   "id": "cf54b73a-26f5-471c-a3cd-43cbcef6dcf8",
   "metadata": {},
   "outputs": [
    {
     "name": "stdout",
     "output_type": "stream",
     "text": [
      "Percentiles for Age: [11. 20. 30. 38. 51. 57. 65. 75.]\n",
      "Percentiles for Average Glucose Level: [ 65.789  73.76   80.038  85.6    98.914 108.516 124.16  192.181]\n",
      "Percentiles for BMI: [19.8 22.6 24.7 26.6 29.9 31.8 34.3 38.7]\n",
      "Percentage of people with hypertension: 9.74559686888454\n",
      "Percentage of people with heart disease: 5.401174168297456\n"
     ]
    }
   ],
   "source": [
    "\n",
    "# Calculate specific percentiles for a column using numpy\n",
    "percentiles_custom_age = np.percentile(df['age'], [10, 20, 30, 40, 60, 70, 80, 90])\n",
    "percentiles_custom_glucose = np.percentile(df['avg_glucose_level'], [10, 20, 30, 40, 60, 70, 80, 90])\n",
    "percentiles_custom_bmi = np.percentile(df['bmi'], [10, 20, 30, 40, 60, 70, 80, 90])\n",
    "percent_hypertension_true = (df['hypertension'].sum() / len(df['hypertension'])) * 100\n",
    "percent_heart_disease_true = (df['heart_disease'].sum() / len(df['heart_disease'])) * 100\n",
    "\n",
    "# Print the calculated percentiles\n",
    "print(\"Percentiles for Age:\", percentiles_custom_age)\n",
    "print(\"Percentiles for Average Glucose Level:\", percentiles_custom_glucose)\n",
    "print(\"Percentiles for BMI:\", percentiles_custom_bmi)\n",
    "print(\"Percentage of people with hypertension:\", percent_hypertension_true)\n",
    "print(\"Percentage of people with heart disease:\", percent_heart_disease_true)\n",
    "\n"
   ]
  },
  {
   "cell_type": "markdown",
   "id": "53c7697d-a7a4-4e5a-8cc9-b468cbb366f9",
   "metadata": {},
   "source": [
    "## median- central tendency"
   ]
  },
  {
   "cell_type": "code",
   "execution_count": 48,
   "id": "91e00dfc-5eca-4a2a-9f54-4704b76657c9",
   "metadata": {},
   "outputs": [
    {
     "name": "stdout",
     "output_type": "stream",
     "text": [
      "Median Age: 45.0\n",
      "Median Avg. Glucose Level: 91.88499999999999\n",
      "Median BMI: 28.3\n",
      "Median Hypertension: 0.0\n",
      "Median Heart Disease: 0.0\n"
     ]
    }
   ],
   "source": [
    "# Calculate median for each column\n",
    "median_age = df['age'].median()\n",
    "median_glucose_level = df['avg_glucose_level'].median()\n",
    "median_bmi = df['bmi'].median()\n",
    "median_hypertension = df['hypertension'].median()\n",
    "median_heart_disease = df['heart_disease'].median()\n",
    "\n",
    "# Print the calculated medians\n",
    "print(\"Median Age:\", median_age)\n",
    "print(\"Median Avg. Glucose Level:\", median_glucose_level)\n",
    "print(\"Median BMI:\", median_bmi)\n",
    "print(\"Median Hypertension:\", median_hypertension)\n",
    "print(\"Median Heart Disease:\", median_heart_disease)\n"
   ]
  },
  {
   "cell_type": "markdown",
   "id": "905c348c-24c0-488e-a1ee-54880e7b17c1",
   "metadata": {},
   "source": [
    "## Mean "
   ]
  },
  {
   "cell_type": "code",
   "execution_count": 49,
   "id": "87e60403-b555-4c7a-af7d-5bdb2c8bff7e",
   "metadata": {},
   "outputs": [
    {
     "name": "stdout",
     "output_type": "stream",
     "text": [
      "Mean Age: 43.226614481409\n",
      "Mean Avg. Glucose Level: 106.1476771037182\n",
      "Mean BMI: 28.91841033735874\n",
      "Mean Hypertension: 0.0974559686888454\n",
      "Mean Heart Disease: 0.05401174168297456\n"
     ]
    }
   ],
   "source": [
    "# Calculate mean for each column\n",
    "mean_age = df['age'].mean()\n",
    "mean_avg_glucose_level = df['avg_glucose_level'].mean()\n",
    "mean_bmi = df['bmi'].mean()\n",
    "mean_hypertension = df['hypertension'].mean()\n",
    "mean_heart_disease = df['heart_disease'].mean()\n",
    "\n",
    "# Print the calculated means\n",
    "print(\"Mean Age:\", mean_age)\n",
    "print(\"Mean Avg. Glucose Level:\", mean_avg_glucose_level)\n",
    "print(\"Mean BMI:\", mean_bmi)\n",
    "print(\"Mean Hypertension:\", mean_hypertension)\n",
    "print(\"Mean Heart Disease:\", mean_heart_disease)\n"
   ]
  },
  {
   "cell_type": "markdown",
   "id": "962a27f0-460e-45f7-a38b-6b970fbea3e4",
   "metadata": {},
   "source": [
    "# Missing value"
   ]
  },
  {
   "cell_type": "code",
   "execution_count": 10,
   "id": "93a2aeb0-1aa8-48fa-b085-56effd68dfe2",
   "metadata": {},
   "outputs": [
    {
     "data": {
      "text/plain": [
       "id                     0\n",
       "gender                 0\n",
       "age                    0\n",
       "hypertension           0\n",
       "heart_disease          0\n",
       "ever_married           0\n",
       "work_type              0\n",
       "Residence_type         0\n",
       "avg_glucose_level      0\n",
       "bmi                  201\n",
       "smoking_status         0\n",
       "stroke                 0\n",
       "dtype: int64"
      ]
     },
     "execution_count": 10,
     "metadata": {},
     "output_type": "execute_result"
    }
   ],
   "source": [
    "df.isnull().sum()"
   ]
  },
  {
   "cell_type": "code",
   "execution_count": 19,
   "id": "b0a5febe-b1de-40cb-820f-804e37c9e4a3",
   "metadata": {},
   "outputs": [
    {
     "name": "stdout",
     "output_type": "stream",
     "text": [
      "No missing BMI values found.\n"
     ]
    }
   ],
   "source": [
    "from sklearn.pipeline import Pipeline\n",
    "from sklearn.preprocessing import StandardScaler\n",
    "from sklearn.tree import DecisionTreeRegressor\n",
    "\n",
    "# Define the Decision Tree regressor pipeline\n",
    "DT_bmi_pipe = Pipeline( steps=[ \n",
    "                               ('scale',StandardScaler()),\n",
    "                               ('lr',DecisionTreeRegressor(random_state=42))\n",
    "                              ])\n",
    "\n",
    "# Identify rows with missing BMI values\n",
    "Missing = df[df['bmi'].isna()]\n",
    "\n",
    "# Check if there are any missing values\n",
    "if not Missing.empty:\n",
    "    # Extract features for missing BMI prediction\n",
    "    X_missing = Missing[['age', 'gender']].copy()\n",
    "    \n",
    "    # Convert gender to numerical values\n",
    "    X_missing['gender'] = X_missing['gender'].map({'Male': 0, 'Female': 1, 'Other': -1}).fillna(-1).astype('int8')\n",
    "\n",
    "    # Extract features and target for training\n",
    "    X_train = df[~df['bmi'].isna()][['age', 'gender']].copy()\n",
    "    y_train = df[~df['bmi'].isna()]['bmi']\n",
    "\n",
    "    # Fit the pipeline\n",
    "    DT_bmi_pipe.fit(X_train, y_train)\n",
    "\n",
    "    # Predict missing BMI values\n",
    "    predicted_bmi = DT_bmi_pipe.predict(X_missing)\n",
    "    \n",
    "    # Update missing BMI values in the original DataFrame\n",
    "    df.loc[Missing.index, 'bmi'] = predicted_bmi\n",
    "else:\n",
    "    print(\"No missing BMI values found.\")\n"
   ]
  },
  {
   "cell_type": "code",
   "execution_count": null,
   "id": "bca70f2c-6ea9-4a2d-abd2-9b23fa257446",
   "metadata": {},
   "outputs": [],
   "source": []
  }
 ],
 "metadata": {
  "kernelspec": {
   "display_name": "Python 3 (ipykernel)",
   "language": "python",
   "name": "python3"
  },
  "language_info": {
   "codemirror_mode": {
    "name": "ipython",
    "version": 3
   },
   "file_extension": ".py",
   "mimetype": "text/x-python",
   "name": "python",
   "nbconvert_exporter": "python",
   "pygments_lexer": "ipython3",
   "version": "3.11.5"
  }
 },
 "nbformat": 4,
 "nbformat_minor": 5
}
